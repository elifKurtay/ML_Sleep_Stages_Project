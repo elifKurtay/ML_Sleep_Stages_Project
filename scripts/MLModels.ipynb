{
 "cells": [
  {
   "cell_type": "markdown",
   "id": "6f9abeeb",
   "metadata": {},
   "source": [
    "# Machine Learning Model Implementations\n",
    "This file includes machine learning model implementations and optimization steps.\n",
    "The models used in order is as follows:\n",
    "1. KNN classifier\n",
    "2. ...\n"
   ]
  },
  {
   "cell_type": "markdown",
   "id": "94195493",
   "metadata": {},
   "source": [
    "### Import Packages and Load Dataset"
   ]
  },
  {
   "cell_type": "markdown",
   "id": "e6cbff3a",
   "metadata": {},
   "source": [
    "Labels come from 2 different PSG systems: Remlogic and Somnomedics. Sleep stage labels are as follows:\n",
    "\n",
    "0 = Awake = SLEEP-S0 \\\n",
    "1 = REM   = SLEEP-REM \\\n",
    "2 = Light = SLEEP-S1 and  SLEEP-S2 \\\n",
    "3 = Deep  = SLEEP-S3 \n",
    "\n",
    "EMFIT is the piezoelectric mat and Somnofy is the radar."
   ]
  },
  {
   "cell_type": "code",
   "execution_count": 1,
   "id": "fc362684",
   "metadata": {},
   "outputs": [],
   "source": [
    "from sklearn.neighbors import KNeighborsClassifier\n",
    "from sklearn.metrics import confusion_matrix, classification_report, accuracy_score, balanced_accuracy_score\n",
    "import seaborn as sn\n",
    "import matplotlib.pyplot as plt\n",
    "\n",
    "import numpy as np\n",
    "from helpers import *\n",
    "from plot import *"
   ]
  },
  {
   "cell_type": "code",
   "execution_count": 2,
   "id": "01acb61f",
   "metadata": {},
   "outputs": [
    {
     "name": "stdout",
     "output_type": "stream",
     "text": [
      "(0, 0, 0)\n"
     ]
    }
   ],
   "source": [
    "subjectID = PARTICIPANT_IDS[3]\n",
    "sleep_stages, nan_counts = impute_data(subjectID)\n",
    "print(nan_counts)"
   ]
  },
  {
   "cell_type": "code",
   "execution_count": 3,
   "id": "da65586d",
   "metadata": {},
   "outputs": [],
   "source": [
    "labels = sleep_stages[\"sleep_stage_num_psg\"]\n",
    "features = sleep_stages.drop(columns=\"sleep_stage_num_psg\")\n",
    "size = sleep_stages.shape[0]\n",
    "divide_ind = int(size*.7)"
   ]
  },
  {
   "cell_type": "code",
   "execution_count": 5,
   "id": "8edf43af",
   "metadata": {},
   "outputs": [
    {
     "name": "stdout",
     "output_type": "stream",
     "text": [
      "Radar:  0.43950225558847295\n",
      "Mat:  0.10414753277114469\n"
     ]
    }
   ],
   "source": [
    "print(\"Radar: \", balanced_accuracy_score(sleep_stages[\"sleep_stage_num_somnofy\"][:divide_ind], labels[:divide_ind]))\n",
    "print(\"Mat: \", balanced_accuracy_score(sleep_stages[\"sleep_stage_num_emfit\"][:divide_ind], labels[:divide_ind]))"
   ]
  },
  {
   "cell_type": "code",
   "execution_count": null,
   "id": "e6ab3ca0",
   "metadata": {},
   "outputs": [],
   "source": [
    "sleep_stages.plot()"
   ]
  },
  {
   "cell_type": "markdown",
   "id": "6df95ccb",
   "metadata": {},
   "source": [
    "### KNN Classifier"
   ]
  },
  {
   "cell_type": "code",
   "execution_count": null,
   "id": "21ba7296",
   "metadata": {},
   "outputs": [],
   "source": [
    "knn_classifier = KNeighborsClassifier(n_neighbors=7)\n",
    "knn_classifier.fit(features[:divide_ind], labels[:divide_ind])"
   ]
  },
  {
   "cell_type": "code",
   "execution_count": null,
   "id": "6555e5ee",
   "metadata": {},
   "outputs": [],
   "source": [
    "preds = knn_classifier.predict(features[divide_ind:])"
   ]
  },
  {
   "cell_type": "code",
   "execution_count": null,
   "id": "74df838e",
   "metadata": {},
   "outputs": [],
   "source": [
    "# Accuracy score \n",
    "print(balanced_accuracy_score(preds, labels[divide_ind:]))\n",
    "\n",
    "# Confusion Matrix and Classification Report \n",
    "plot_conf_matrix(preds, labels[divide_ind:])\n",
    "print(classification_report(preds, labels[divide_ind:]))"
   ]
  },
  {
   "cell_type": "code",
   "execution_count": null,
   "id": "b5f2db12",
   "metadata": {},
   "outputs": [],
   "source": []
  }
 ],
 "metadata": {
  "kernelspec": {
   "display_name": "Python 3 (ipykernel)",
   "language": "python",
   "name": "python3"
  },
  "language_info": {
   "codemirror_mode": {
    "name": "ipython",
    "version": 3
   },
   "file_extension": ".py",
   "mimetype": "text/x-python",
   "name": "python",
   "nbconvert_exporter": "python",
   "pygments_lexer": "ipython3",
   "version": "3.9.12"
  }
 },
 "nbformat": 4,
 "nbformat_minor": 5
}
