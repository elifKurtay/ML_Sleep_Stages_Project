{
 "cells": [
  {
   "cell_type": "markdown",
   "id": "6f9abeeb",
   "metadata": {},
   "source": [
    "# Machine Learning Model Implementations\n",
    "This file includes machine learning model implementations and optimization steps.\n",
    "The models used in order is as follows:\n",
    "1. KNN classifier\n",
    "2. ...\n"
   ]
  },
  {
   "cell_type": "markdown",
   "id": "94195493",
   "metadata": {},
   "source": [
    "### Import Packages and Load Dataset"
   ]
  },
  {
   "cell_type": "markdown",
   "id": "e6cbff3a",
   "metadata": {},
   "source": [
    "Labels come from 2 different PSG systems: Remlogic and Somnomedics. Sleep stage labels are as follows:\n",
    "\n",
    "0 = Awake = SLEEP-S0 \\\n",
    "1 = REM   = SLEEP-REM \\\n",
    "2 = Light = SLEEP-S1 and  SLEEP-S2 \\\n",
    "3 = Deep  = SLEEP-S3 \n",
    "\n",
    "EMFIT is the piezoelectric mat and Somnofy is the radar."
   ]
  },
  {
   "cell_type": "code",
   "execution_count": 14,
   "id": "fc362684",
   "metadata": {},
   "outputs": [],
   "source": [
    "from sklearn.neighbors import KNeighborsClassifier\n",
    "from sklearn.metrics import confusion_matrix, classification_report, accuracy_score\n",
    "\n",
    "import numpy as np\n",
    "from helpers import *"
   ]
  },
  {
   "cell_type": "code",
   "execution_count": 2,
   "id": "01acb61f",
   "metadata": {},
   "outputs": [
    {
     "name": "stdout",
     "output_type": "stream",
     "text": [
      "(0, 0, 0)\n"
     ]
    }
   ],
   "source": [
    "subjectID = PARTICIPANT_IDS[1]\n",
    "sleep_stages, nan_counts = impute_data(subjectID)\n",
    "print(nan_counts)"
   ]
  },
  {
   "cell_type": "code",
   "execution_count": 7,
   "id": "da65586d",
   "metadata": {},
   "outputs": [],
   "source": [
    "labels = sleep_stages[\"sleep_stage_num_psg\"]\n",
    "features = sleep_stages.drop(columns=\"sleep_stage_num_psg\")\n",
    "size = sleep_stages.shape[0]\n",
    "divide_ind = int(size*.7)"
   ]
  },
  {
   "cell_type": "markdown",
   "id": "6df95ccb",
   "metadata": {},
   "source": [
    "### KNN Classifier"
   ]
  },
  {
   "cell_type": "code",
   "execution_count": 16,
   "id": "21ba7296",
   "metadata": {},
   "outputs": [
    {
     "data": {
      "text/plain": [
       "KNeighborsClassifier(n_neighbors=10)"
      ]
     },
     "execution_count": 16,
     "metadata": {},
     "output_type": "execute_result"
    }
   ],
   "source": [
    "knn_classifier = KNeighborsClassifier(n_neighbors=10)\n",
    "knn_classifier.fit(features[:divide_ind], labels[:divide_ind])"
   ]
  },
  {
   "cell_type": "code",
   "execution_count": 17,
   "id": "6555e5ee",
   "metadata": {},
   "outputs": [],
   "source": [
    "preds = knn_classifier.predict(features[divide_ind:])"
   ]
  },
  {
   "cell_type": "code",
   "execution_count": 18,
   "id": "74df838e",
   "metadata": {},
   "outputs": [
    {
     "name": "stdout",
     "output_type": "stream",
     "text": [
      "0.38372093023255816\n",
      "[[14  0  8  0]\n",
      " [95  0  0  0]\n",
      " [ 4 20 85  0]\n",
      " [ 0  4 28  0]]\n",
      "              precision    recall  f1-score   support\n",
      "\n",
      "         0.0       0.12      0.64      0.21        22\n",
      "         1.0       0.00      0.00      0.00        95\n",
      "         2.0       0.70      0.78      0.74       109\n",
      "         3.0       0.00      0.00      0.00        32\n",
      "\n",
      "    accuracy                           0.38       258\n",
      "   macro avg       0.21      0.35      0.24       258\n",
      "weighted avg       0.31      0.38      0.33       258\n",
      "\n"
     ]
    },
    {
     "name": "stderr",
     "output_type": "stream",
     "text": [
      "/Users/elifkurtay/opt/anaconda3/lib/python3.9/site-packages/sklearn/metrics/_classification.py:1318: UndefinedMetricWarning: Precision and F-score are ill-defined and being set to 0.0 in labels with no predicted samples. Use `zero_division` parameter to control this behavior.\n",
      "  _warn_prf(average, modifier, msg_start, len(result))\n",
      "/Users/elifkurtay/opt/anaconda3/lib/python3.9/site-packages/sklearn/metrics/_classification.py:1318: UndefinedMetricWarning: Precision and F-score are ill-defined and being set to 0.0 in labels with no predicted samples. Use `zero_division` parameter to control this behavior.\n",
      "  _warn_prf(average, modifier, msg_start, len(result))\n",
      "/Users/elifkurtay/opt/anaconda3/lib/python3.9/site-packages/sklearn/metrics/_classification.py:1318: UndefinedMetricWarning: Precision and F-score are ill-defined and being set to 0.0 in labels with no predicted samples. Use `zero_division` parameter to control this behavior.\n",
      "  _warn_prf(average, modifier, msg_start, len(result))\n"
     ]
    }
   ],
   "source": [
    "# Accuracy score \n",
    "print(accuracy_score(preds, labels[divide_ind:]))\n",
    "\n",
    "# Confusion Matrix and Classification Report \n",
    "print(confusion_matrix(preds, labels[divide_ind:]))\n",
    "print(classification_report(preds, labels[divide_ind:]))"
   ]
  },
  {
   "cell_type": "code",
   "execution_count": null,
   "id": "b5f2db12",
   "metadata": {},
   "outputs": [],
   "source": []
  }
 ],
 "metadata": {
  "kernelspec": {
   "display_name": "Python 3 (ipykernel)",
   "language": "python",
   "name": "python3"
  },
  "language_info": {
   "codemirror_mode": {
    "name": "ipython",
    "version": 3
   },
   "file_extension": ".py",
   "mimetype": "text/x-python",
   "name": "python",
   "nbconvert_exporter": "python",
   "pygments_lexer": "ipython3",
   "version": "3.9.12"
  }
 },
 "nbformat": 4,
 "nbformat_minor": 5
}
