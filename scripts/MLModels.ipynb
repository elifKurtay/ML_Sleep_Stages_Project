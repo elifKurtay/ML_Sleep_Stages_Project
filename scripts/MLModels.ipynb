{
 "cells": [
  {
   "cell_type": "markdown",
   "id": "6f9abeeb",
   "metadata": {},
   "source": [
    "# Machine Learning Model Implementations\n",
    "This file includes machine learning model implementations and optimization steps.\n",
    "The models used in order is as follows:\n",
    "1. KNN classifier\n",
    "2. ...\n"
   ]
  },
  {
   "cell_type": "markdown",
   "id": "94195493",
   "metadata": {},
   "source": [
    "### Import Packages and Load Dataset"
   ]
  },
  {
   "cell_type": "markdown",
   "id": "e6cbff3a",
   "metadata": {},
   "source": [
    "Labels come from 2 different PSG systems: Remlogic and Somnomedics. Sleep stage labels are as follows:\n",
    "\n",
    "0 = Awake = SLEEP-S0 \\\n",
    "1 = REM   = SLEEP-REM \\\n",
    "2 = Light = SLEEP-S1 and  SLEEP-S2 \\\n",
    "3 = Deep  = SLEEP-S3 \n",
    "\n",
    "EMFIT is the piezoelectric mat and Somnofy is the radar."
   ]
  },
  {
   "cell_type": "code",
   "execution_count": 4,
   "id": "5229a5b2",
   "metadata": {},
   "outputs": [
    {
     "name": "stdout",
     "output_type": "stream",
     "text": [
      "Collecting tslearn\n",
      "  Downloading tslearn-0.5.2-cp39-cp39-macosx_10_9_x86_64.whl (452 kB)\n",
      "\u001b[K     |████████████████████████████████| 452 kB 4.5 MB/s eta 0:00:01\n",
      "\u001b[?25hRequirement already satisfied: scikit-learn in /Users/elifkurtay/opt/anaconda3/lib/python3.9/site-packages (from tslearn) (1.0.2)\n",
      "Requirement already satisfied: numpy in /Users/elifkurtay/opt/anaconda3/lib/python3.9/site-packages (from tslearn) (1.21.5)\n",
      "Requirement already satisfied: Cython in /Users/elifkurtay/opt/anaconda3/lib/python3.9/site-packages (from tslearn) (0.29.28)\n",
      "Requirement already satisfied: scipy in /Users/elifkurtay/opt/anaconda3/lib/python3.9/site-packages (from tslearn) (1.7.3)\n",
      "Requirement already satisfied: joblib in /Users/elifkurtay/opt/anaconda3/lib/python3.9/site-packages (from tslearn) (1.1.0)\n",
      "Requirement already satisfied: numba in /Users/elifkurtay/opt/anaconda3/lib/python3.9/site-packages (from tslearn) (0.55.1)\n",
      "Requirement already satisfied: llvmlite<0.39,>=0.38.0rc1 in /Users/elifkurtay/opt/anaconda3/lib/python3.9/site-packages (from numba->tslearn) (0.38.0)\n",
      "Requirement already satisfied: setuptools in /Users/elifkurtay/opt/anaconda3/lib/python3.9/site-packages (from numba->tslearn) (61.2.0)\n",
      "Requirement already satisfied: threadpoolctl>=2.0.0 in /Users/elifkurtay/opt/anaconda3/lib/python3.9/site-packages (from scikit-learn->tslearn) (2.2.0)\n",
      "Installing collected packages: tslearn\n",
      "Successfully installed tslearn-0.5.2\n"
     ]
    }
   ],
   "source": [
    "!pip3 install tslearn"
   ]
  },
  {
   "cell_type": "code",
   "execution_count": 2,
   "id": "fc362684",
   "metadata": {},
   "outputs": [],
   "source": [
    "import seaborn as sn\n",
    "import matplotlib.pyplot as plt\n",
    "from sklearn.metrics import confusion_matrix, classification_report, accuracy_score, balanced_accuracy_score\n",
    "from sklearn.neighbors import KNeighborsClassifier\n",
    "from sklearn.naive_bayes import CategoricalNB\n",
    "from tslearn.metrics import dtw\n",
    "from sklearn.tree import DecisionTreeClassifier\n",
    "\n",
    "import numpy as np\n",
    "from loader import *\n",
    "from helpers import *\n",
    "from sklearn.model_selection import train_test_split"
   ]
  },
  {
   "cell_type": "code",
   "execution_count": 8,
   "id": "8edf43af",
   "metadata": {},
   "outputs": [
    {
     "name": "stdout",
     "output_type": "stream",
     "text": [
      "Radar:  0.45474044012102816\n",
      "Mat:  0.5013282629573407\n"
     ]
    }
   ],
   "source": [
    "print(\"Radar: \", balanced_accuracy_score( labels[:divide_ind], sleep_stages[\"sleep_stage_num_somnofy\"][:divide_ind]))\n",
    "print(\"Mat: \", balanced_accuracy_score( labels[:divide_ind], sleep_stages[\"sleep_stage_num_emfit\"][:divide_ind]))"
   ]
  },
  {
   "cell_type": "code",
   "execution_count": 3,
   "id": "3ac356a4",
   "metadata": {},
   "outputs": [
    {
     "data": {
      "text/plain": [
       "((35, 857, 2), (16, 857, 2), (35, 857), (16, 857))"
      ]
     },
     "execution_count": 3,
     "metadata": {},
     "output_type": "execute_result"
    }
   ],
   "source": [
    "x, y, _, _ = get_nn_patients()\n",
    "x_tr, x_te, y_tr, y_te = train_test_split(x, y, test_size=0.30, random_state=42)\n",
    "x_tr.shape, x_te.shape, y_tr.shape, y_te.shape"
   ]
  },
  {
   "cell_type": "markdown",
   "id": "4f4ceaab",
   "metadata": {},
   "source": [
    "### Grid Search"
   ]
  },
  {
   "cell_type": "code",
   "execution_count": 4,
   "id": "d5d703f1",
   "metadata": {},
   "outputs": [
    {
     "data": {
      "text/plain": [
       "((857, 35), (857, 35), (857, 16), (857, 16), (857, 35), (857, 16))"
      ]
     },
     "execution_count": 4,
     "metadata": {},
     "output_type": "execute_result"
    }
   ],
   "source": [
    "x_tr_radar, x_tr_emfit = x_tr[:,:,0].T, x_tr[:,:,1].T\n",
    "x_te_radar, x_te_emfit = x_te[:,:,0].T, x_te[:,:,1].T\n",
    "y_tr_gd, y_te_gd = y_tr.T, y_te.T\n",
    "x_tr_radar.shape, x_tr_emfit.shape, x_te_radar.shape, x_te_emfit.shape, y_tr_gd.shape, y_te_gd.shape"
   ]
  },
  {
   "cell_type": "code",
   "execution_count": 25,
   "id": "ba592c8e",
   "metadata": {},
   "outputs": [],
   "source": [
    "def grid_search(radar, mat, psg, step=0.002, grid_limit=0.6):\n",
    "    loss=100\n",
    "    w_opt=np.zeros((2,1), dtype=float)\n",
    "    w = np.zeros((2,1), dtype=float)\n",
    "    while w[0] <= grid_limit:\n",
    "        w[1]=0\n",
    "        while w[1] <= grid_limit:\n",
    "            e=np.zeros((radar.shape[0],radar.shape[1]))\n",
    "            for i in range(radar.shape[1]):\n",
    "                e[:,i]=(psg[:,i].reshape(radar.shape[0],1)-np.c_[mat[:,i],radar[:,i]].reshape(radar.shape[0],2)@w).reshape(radar.shape[0],)\n",
    "            mse=np.zeros((radar.shape[1],1))\n",
    "            for i in range(radar.shape[1]):\n",
    "                mse[i]=1/2/radar.shape[0]*e[:,i].T@e[:,i]\n",
    "            average_mse=np.mean(mse)\n",
    "            if average_mse<loss:\n",
    "                loss=average_mse\n",
    "                w_opt[0], w_opt[1] = w[0], w[1]\n",
    "            w[1]+=step\n",
    "        w[0]+=step\n",
    "    return w_opt"
   ]
  },
  {
   "cell_type": "code",
   "execution_count": null,
   "id": "0136a94c",
   "metadata": {},
   "outputs": [],
   "source": [
    "w = grid_search(x_tr_radar, x_tr_emfit, y_tr_gd, step=0.002, grid_limit=.8)\n",
    "#preds = get_predictions(w, x_te_emfit, x_te_radar) for each patient"
   ]
  },
  {
   "cell_type": "code",
   "execution_count": null,
   "id": "e8a17aa3",
   "metadata": {},
   "outputs": [],
   "source": [
    "# Accuracy score \n",
    "print(balanced_accuracy_score(y_te_gd, preds))\n",
    "\n",
    "# Confusion Matrix and Classification Report \n",
    "plot_conf_matrix(preds, y_te_gd, normalize = True)"
   ]
  },
  {
   "cell_type": "markdown",
   "id": "3544842c",
   "metadata": {},
   "source": [
    "### Gradient Descent"
   ]
  },
  {
   "cell_type": "markdown",
   "id": "b18edc1d",
   "metadata": {},
   "source": [
    "#### Method 1:"
   ]
  },
  {
   "cell_type": "code",
   "execution_count": 6,
   "id": "e89919f2",
   "metadata": {},
   "outputs": [],
   "source": [
    "size = x_tr_radar.shape[0]\n",
    "psg = np.zeros((size,1))\n",
    "for i in range(size):\n",
    "    psg[i]=round(np.mean(y_tr_gd[i,:]))\n",
    "emfit_mean=np.zeros((size,1))\n",
    "for i in range(size):\n",
    "    emfit_mean[i]=np.mean(x_tr_emfit[i,:])\n",
    "somnofy_mean=np.zeros((size,1))\n",
    "for i in range(size):\n",
    "    somnofy_mean[i]=np.mean(x_tr_radar[i,:])\n",
    "\n",
    "w_m1, loss_m1= mse_gd(emfit_mean+1,somnofy_mean+1,psg+1, max_iters=1500, gamma=0.005,w0=True)"
   ]
  },
  {
   "cell_type": "code",
   "execution_count": null,
   "id": "5cb0cf02",
   "metadata": {},
   "outputs": [],
   "source": [
    "preds = get_predictions(w_m1, x_te_emfit, x_te_radar)\n",
    "# Accuracy score \n",
    "print(balanced_accuracy_score(y_te_gd, preds))\n",
    "\n",
    "# Confusion Matrix and Classification Report \n",
    "plot_conf_matrix(preds, y_te_gd, normalize = True)"
   ]
  },
  {
   "cell_type": "markdown",
   "id": "bfe2dd18",
   "metadata": {},
   "source": [
    "#### Method 2:\n"
   ]
  },
  {
   "cell_type": "code",
   "execution_count": 8,
   "id": "6e78f18c",
   "metadata": {},
   "outputs": [],
   "source": [
    "psg_freq = np.zeros((size,1))\n",
    "for i in range(size):\n",
    "    counts = np.bincount(y_tr_gd[i,:].astype(int))\n",
    "    psg_freq[i]=np.argmax(counts)    \n",
    "\n",
    "w_m2,loss_m2=mse_gd(emfit_mean+1,somnofy_mean+1,psg_freq+1, max_iters=1500, gamma=0.005,w0=True)"
   ]
  },
  {
   "cell_type": "code",
   "execution_count": null,
   "id": "e7f34f03",
   "metadata": {},
   "outputs": [],
   "source": [
    "preds = get_predictions(w_m2, x_te_emfit, x_te_radar)\n",
    "# Accuracy score \n",
    "print(balanced_accuracy_score(y_te_gd, preds))\n",
    "\n",
    "# Confusion Matrix and Classification Report \n",
    "plot_conf_matrix(preds, y_te_gd, normalize = True)"
   ]
  },
  {
   "cell_type": "markdown",
   "id": "dfe458a9",
   "metadata": {},
   "source": [
    "### Data preparation for the rest"
   ]
  },
  {
   "cell_type": "code",
   "execution_count": 25,
   "id": "31f3e0b8",
   "metadata": {},
   "outputs": [],
   "source": [
    "train_size, test_size = x_tr.shape[0] * x_tr.shape[1], x_te.shape[0] * x_te.shape[1]\n",
    "x_tr, x_te, y_tr, y_te = x_tr.reshape(train_size,2), x_te.reshape(test_size,2), y_tr.ravel(), y_te.ravel()"
   ]
  },
  {
   "cell_type": "markdown",
   "id": "6df95ccb",
   "metadata": {},
   "source": [
    "### KNN Classifier"
   ]
  },
  {
   "cell_type": "code",
   "execution_count": 20,
   "id": "21ba7296",
   "metadata": {},
   "outputs": [
    {
     "data": {
      "text/plain": [
       "KNeighborsClassifier(metric=<function dtw at 0x7f9a51d11940>, n_jobs=-1,\n",
       "                     n_neighbors=10)"
      ]
     },
     "execution_count": 20,
     "metadata": {},
     "output_type": "execute_result"
    }
   ],
   "source": [
    "knn_classifier = KNeighborsClassifier(n_neighbors=10, metric=dtw, n_jobs=-1)\n",
    "knn_classifier.fit(x_tr, y_tr)"
   ]
  },
  {
   "cell_type": "code",
   "execution_count": 21,
   "id": "6555e5ee",
   "metadata": {},
   "outputs": [],
   "source": [
    "preds = knn_classifier.predict(x_te)"
   ]
  },
  {
   "cell_type": "code",
   "execution_count": 22,
   "id": "74df838e",
   "metadata": {},
   "outputs": [
    {
     "name": "stdout",
     "output_type": "stream",
     "text": [
      "0.2679169324876502\n",
      "[[0.20824582 0.00108907 0.02543757 0.        ]\n",
      " [0.07763516 0.00715675 0.06830027 0.        ]\n",
      " [0.40614547 0.00427849 0.06565539 0.        ]\n",
      " [0.12640996 0.00054454 0.00910152 0.        ]]\n"
     ]
    },
    {
     "data": {
      "image/png": "[encoded data removed]",
      "text/plain": [
       "<Figure size 432x288 with 2 Axes>"
      ]
     },
     "metadata": {
      "needs_background": "light"
     },
     "output_type": "display_data"
    }
   ],
   "source": [
    "# Accuracy score \n",
    "print(balanced_accuracy_score(y_te, preds))\n",
    "\n",
    "# Confusion Matrix and Classification Report \n",
    "plot_conf_matrix(preds, y_te, normalize = True)"
   ]
  },
  {
   "cell_type": "code",
   "execution_count": 26,
   "id": "a4f496cf",
   "metadata": {},
   "outputs": [
    {
     "name": "stdout",
     "output_type": "stream",
     "text": [
      "0.49095835445074865\n",
      "[[0.15449242 0.         0.08292493 0.00684559]\n",
      " [0.02473746 0.01143524 0.09404901 0.00186698]\n",
      " [0.04799689 0.         0.3478802  0.03383897]\n",
      " [0.01625827 0.00178919 0.09148191 0.08440296]]\n"
     ]
    },
    {
     "data": {
      "image/png": "[encoded data removed]",
      "text/plain": [
       "<Figure size 432x288 with 2 Axes>"
      ]
     },
     "metadata": {
      "needs_background": "light"
     },
     "output_type": "display_data"
    }
   ],
   "source": [
    "knn_classifier = KNeighborsClassifier(n_neighbors=10, n_jobs=-1)\n",
    "knn_classifier.fit(x_tr, y_tr)\n",
    "preds = knn_classifier.predict(x_te)\n",
    "# Accuracy score \n",
    "print(balanced_accuracy_score( y_te, preds))\n",
    "\n",
    "# Confusion Matrix and Classification Report \n",
    "plot_conf_matrix(preds, y_te, normalize = True)\n",
    "# print(classification_report( y_te, preds))"
   ]
  },
  {
   "cell_type": "markdown",
   "id": "e37092ed",
   "metadata": {},
   "source": [
    "### Naive Bayes "
   ]
  },
  {
   "cell_type": "code",
   "execution_count": 27,
   "id": "8c469434",
   "metadata": {},
   "outputs": [
    {
     "data": {
      "text/plain": [
       "CategoricalNB()"
      ]
     },
     "execution_count": 27,
     "metadata": {},
     "output_type": "execute_result"
    }
   ],
   "source": [
    "cnb_classifier = CategoricalNB()\n",
    "cnb_classifier.fit(x_tr, y_tr)"
   ]
  },
  {
   "cell_type": "code",
   "execution_count": 28,
   "id": "6ab345f2",
   "metadata": {},
   "outputs": [],
   "source": [
    "preds = cnb_classifier.predict(x_te)"
   ]
  },
  {
   "cell_type": "code",
   "execution_count": 29,
   "id": "68dca0aa",
   "metadata": {},
   "outputs": [
    {
     "name": "stdout",
     "output_type": "stream",
     "text": [
      "0.5897570157335947\n",
      "[[0.14570206 0.02162583 0.07211202 0.00482303]\n",
      " [0.02497083 0.08518086 0.02030338 0.00163361]\n",
      " [0.04846363 0.0512641  0.30221704 0.0277713 ]\n",
      " [0.01275768 0.00676779 0.09404901 0.08035784]]\n"
     ]
    },
    {
     "data": {
      "image/png": "[encoded data removed]",
      "text/plain": [
       "<Figure size 432x288 with 2 Axes>"
      ]
     },
     "metadata": {
      "needs_background": "light"
     },
     "output_type": "display_data"
    }
   ],
   "source": [
    "# Accuracy score \n",
    "print(balanced_accuracy_score( y_te, preds))\n",
    "\n",
    "# Confusion Matrix and Classification Report \n",
    "plot_conf_matrix(preds, y_te, normalize = True)\n",
    "# print(classification_report( y_te, preds))"
   ]
  },
  {
   "cell_type": "markdown",
   "id": "11898cc8",
   "metadata": {},
   "source": [
    "### Decision Tree"
   ]
  },
  {
   "cell_type": "code",
   "execution_count": 32,
   "id": "9b7a724a",
   "metadata": {},
   "outputs": [],
   "source": [
    "classifier_feature = DecisionTreeClassifier()\n",
    "classifier_feature.fit(x_tr, y_tr) \n",
    "preds = classifier_feature.predict(x_te)"
   ]
  },
  {
   "cell_type": "code",
   "execution_count": 34,
   "id": "edd71ca2",
   "metadata": {},
   "outputs": [
    {
     "name": "stdout",
     "output_type": "stream",
     "text": [
      "              precision    recall  f1-score   support\n",
      "\n",
      "         0.0       0.63      0.63      0.63      3140\n",
      "         1.0       0.51      0.64      0.57      1698\n",
      "         2.0       0.64      0.70      0.67      5524\n",
      "         3.0       0.70      0.41      0.52      2493\n",
      "\n",
      "    accuracy                           0.62     12855\n",
      "   macro avg       0.62      0.60      0.60     12855\n",
      "weighted avg       0.63      0.62      0.62     12855\n",
      "\n",
      "0.5990253733808272\n",
      "0.6227148969272657\n"
     ]
    }
   ],
   "source": [
    "print(classification_report(y_te,preds))\n",
    "print(balanced_accuracy_score(y_te,preds))\n",
    "print(accuracy_score(y_te,preds))"
   ]
  },
  {
   "cell_type": "markdown",
   "id": "330ce967",
   "metadata": {},
   "source": [
    "### Overall Balanced accuracy\n"
   ]
  },
  {
   "cell_type": "code",
   "execution_count": 20,
   "id": "f0bd1a2c",
   "metadata": {},
   "outputs": [
    {
     "name": "stdout",
     "output_type": "stream",
     "text": [
      "Radar:   Acc =  0.5890376474187747 St. Dv. =  0.1805266427884278\n",
      "Mat:   Acc =  0.37047027665760657 St. Dv. =  0.10266745272149581\n",
      "kNN:   Acc =  0.42412158601351024 St. Dv. =  0.14730997269717408\n",
      "NB:   Acc =  0.4772134774112359 St. Dv. =  0.1600312903460696\n"
     ]
    }
   ],
   "source": [
    "with warnings.catch_warnings():\n",
    "    warnings.simplefilter(\"ignore\")\n",
    "    overall_balanced_accuracy()"
   ]
  },
  {
   "cell_type": "code",
   "execution_count": null,
   "id": "add1b4c0",
   "metadata": {},
   "outputs": [],
   "source": []
  }
 ],
 "metadata": {
  "kernelspec": {
   "display_name": "Python 3 (ipykernel)",
   "language": "python",
   "name": "python3"
  },
  "language_info": {
   "codemirror_mode": {
    "name": "ipython",
    "version": 3
   },
   "file_extension": ".py",
   "mimetype": "text/x-python",
   "name": "python",
   "nbconvert_exporter": "python",
   "pygments_lexer": "ipython3",
   "version": "3.9.12"
  }
 },
 "nbformat": 4,
 "nbformat_minor": 5
}
