{
 "cells": [
  {
   "cell_type": "code",
   "execution_count": 1,
   "id": "ff6c28b7",
   "metadata": {},
   "outputs": [],
   "source": [
    "from loader import get_nn_patients\n",
    "from helpers import *"
   ]
  },
  {
   "cell_type": "code",
   "execution_count": 13,
   "id": "87c64dd0",
   "metadata": {},
   "outputs": [],
   "source": [
    "import os\n",
    "os.environ['TF_CPP_MIN_LOG_LEVEL'] = '2'\n",
    "import numpy as np\n",
    "from numpy import mean\n",
    "from numpy import std\n",
    "from numpy import dstack\n",
    "from pandas import read_csv\n",
    "from matplotlib import pyplot\n",
    "from keras.models import Sequential\n",
    "from keras.layers import Dense\n",
    "from keras.layers import Flatten\n",
    "from keras.layers import Dropout\n",
    "from keras.layers.convolutional import Conv1D\n",
    "from keras.layers.convolutional import MaxPooling1D\n",
    "from keras.utils import to_categorical #hot-encoding\n",
    "from sklearn.model_selection import train_test_split\n",
    "from sklearn.metrics import classification_report, balanced_accuracy_score, accuracy_score\n",
    "\n",
    "from keras.utils.vis_utils import plot_model\n",
    "from keras.models import Model\n",
    "from keras.layers import Input\n",
    "from keras.layers import concatenate"
   ]
  },
  {
   "cell_type": "markdown",
   "id": "b14a322f",
   "metadata": {},
   "source": [
    "### Preparing the data\n",
    "Important observations:\n",
    "data for a given group (train or test) must be given to CNN into a single three-dimensional NumPy array, where the dimensions of the array are [samples, time steps, features], where sample: one input example that has 1 or more time steps with one or more features at each time step; time steps: one part of a single input example that has one or more features; feature: one of possible many observations for a given time step.\n"
   ]
  },
  {
   "cell_type": "code",
   "execution_count": 43,
   "id": "26e6da7a",
   "metadata": {},
   "outputs": [
    {
     "data": {
      "text/plain": [
       "((35, 857, 2), (15, 857, 2), (35, 857), (15, 857))"
      ]
     },
     "execution_count": 43,
     "metadata": {},
     "output_type": "execute_result"
    }
   ],
   "source": [
    "x, y, _, _= get_nn_patients()\n",
    "x_tr, x_te, y_tr, y_te = train_test_split(x, y, test_size=0.30, shuffle = False, stratify = None)\n",
    "x_tr.shape, x_te.shape, y_tr.shape, y_te.shape"
   ]
  },
  {
   "cell_type": "code",
   "execution_count": 44,
   "id": "744b9342",
   "metadata": {},
   "outputs": [
    {
     "data": {
      "text/plain": [
       "((29995, 1, 2), (29995, 4), (12855, 1, 2), (12855, 4))"
      ]
     },
     "execution_count": 44,
     "metadata": {},
     "output_type": "execute_result"
    }
   ],
   "source": [
    "train_size, test_size = x_tr.shape[0] * x_tr.shape[1], x_te.shape[0] * x_te.shape[1]\n",
    "trainX = x_tr.reshape(train_size,1,2)\n",
    "trainy = y_tr.reshape(train_size)\n",
    "testX = x_te.reshape(test_size,1,2)\n",
    "y_te = y_te.reshape(test_size)\n",
    "\n",
    "trainy = to_categorical(trainy)\n",
    "testy = to_categorical(y_te)\n",
    "\n",
    "trainX.shape, trainy.shape, testX.shape, testy.shape"
   ]
  },
  {
   "cell_type": "markdown",
   "id": "84168ef2",
   "metadata": {},
   "source": [
    "trainX = trainX.reshape(857,34,2)\n",
    "trainy = trainy[1,:].reshape(857)\n",
    "testX = testX.reshape(857,16,2)\n",
    "testy = testy[1,:].reshape(857)"
   ]
  },
  {
   "cell_type": "code",
   "execution_count": 47,
   "id": "67f72c1d",
   "metadata": {},
   "outputs": [],
   "source": [
    "# summarize scores\n",
    "def summarize_result(true, preds):\n",
    "    print(classification_report(true,preds))\n",
    "    print(\"Balanced accuracy:\", balanced_accuracy_score(true,preds))\n",
    "    print(\"Accuracy:\",accuracy_score(true,preds))\n",
    "    plot_conf_matrix(preds, true, normalize = True)"
   ]
  },
  {
   "cell_type": "markdown",
   "id": "141b9d89",
   "metadata": {},
   "source": [
    "### Fitting the CNN model \n",
    "We will define the model as having two 1D CNN layers, followed by a dropout layer for regularization, then a pooling layer. It is common to define CNN layers in groups of two in order to give the model a good chance of learning features from the input data. CNNs learn very quickly, so the dropout layer is intended to help slow down the learning process and hopefully result in a better final model. The pooling layer reduces the learned features to 1/4 their size, consolidating them to only the most essential elements.\n",
    "\n",
    "After the CNN and pooling, the learned features are flattened to one long vector and pass through a fully connected layer before the output layer used to make a prediction. The fully connected layer ideally provides a buffer between the learned features and the output with the intent of interpreting the learned features before making a prediction."
   ]
  },
  {
   "cell_type": "code",
   "execution_count": 7,
   "id": "ebebdd76",
   "metadata": {},
   "outputs": [
    {
     "name": "stdout",
     "output_type": "stream",
     "text": [
      "Model: \"sequential_10\"\n",
      "_________________________________________________________________\n",
      " Layer (type)                Output Shape              Param #   \n",
      "=================================================================\n",
      " conv1d_30 (Conv1D)          (None, 1, 64)             448       \n",
      "                                                                 \n",
      " max_pooling1d_30 (MaxPoolin  (None, 1, 64)            0         \n",
      " g1D)                                                            \n",
      "                                                                 \n",
      " conv1d_31 (Conv1D)          (None, 1, 64)             12352     \n",
      "                                                                 \n",
      " max_pooling1d_31 (MaxPoolin  (None, 1, 64)            0         \n",
      " g1D)                                                            \n",
      "                                                                 \n",
      " conv1d_32 (Conv1D)          (None, 1, 64)             12352     \n",
      "                                                                 \n",
      " max_pooling1d_32 (MaxPoolin  (None, 1, 64)            0         \n",
      " g1D)                                                            \n",
      "                                                                 \n",
      " dropout_10 (Dropout)        (None, 1, 64)             0         \n",
      "                                                                 \n",
      " flatten_10 (Flatten)        (None, 64)                0         \n",
      "                                                                 \n",
      " dense_20 (Dense)            (None, 100)               6500      \n",
      "                                                                 \n",
      " dense_21 (Dense)            (None, 4)                 404       \n",
      "                                                                 \n",
      "=================================================================\n",
      "Total params: 32,056\n",
      "Trainable params: 32,056\n",
      "Non-trainable params: 0\n",
      "_________________________________________________________________\n",
      "None\n",
      ">#1: 64.683\n",
      "Model: \"sequential_11\"\n",
      "_________________________________________________________________\n",
      " Layer (type)                Output Shape              Param #   \n",
      "=================================================================\n",
      " conv1d_33 (Conv1D)          (None, 1, 64)             448       \n",
      "                                                                 \n",
      " max_pooling1d_33 (MaxPoolin  (None, 1, 64)            0         \n",
      " g1D)                                                            \n",
      "                                                                 \n",
      " conv1d_34 (Conv1D)          (None, 1, 64)             12352     \n",
      "                                                                 \n",
      " max_pooling1d_34 (MaxPoolin  (None, 1, 64)            0         \n",
      " g1D)                                                            \n",
      "                                                                 \n",
      " conv1d_35 (Conv1D)          (None, 1, 64)             12352     \n",
      "                                                                 \n",
      " max_pooling1d_35 (MaxPoolin  (None, 1, 64)            0         \n",
      " g1D)                                                            \n",
      "                                                                 \n",
      " dropout_11 (Dropout)        (None, 1, 64)             0         \n",
      "                                                                 \n",
      " flatten_11 (Flatten)        (None, 64)                0         \n",
      "                                                                 \n",
      " dense_22 (Dense)            (None, 100)               6500      \n",
      "                                                                 \n",
      " dense_23 (Dense)            (None, 4)                 404       \n",
      "                                                                 \n",
      "=================================================================\n",
      "Total params: 32,056\n",
      "Trainable params: 32,056\n",
      "Non-trainable params: 0\n",
      "_________________________________________________________________\n",
      "None\n",
      ">#2: 68.012\n",
      "Model: \"sequential_12\"\n",
      "_________________________________________________________________\n",
      " Layer (type)                Output Shape              Param #   \n",
      "=================================================================\n",
      " conv1d_36 (Conv1D)          (None, 1, 64)             448       \n",
      "                                                                 \n",
      " max_pooling1d_36 (MaxPoolin  (None, 1, 64)            0         \n",
      " g1D)                                                            \n",
      "                                                                 \n",
      " conv1d_37 (Conv1D)          (None, 1, 64)             12352     \n",
      "                                                                 \n",
      " max_pooling1d_37 (MaxPoolin  (None, 1, 64)            0         \n",
      " g1D)                                                            \n",
      "                                                                 \n",
      " conv1d_38 (Conv1D)          (None, 1, 64)             12352     \n",
      "                                                                 \n",
      " max_pooling1d_38 (MaxPoolin  (None, 1, 64)            0         \n",
      " g1D)                                                            \n",
      "                                                                 \n",
      " dropout_12 (Dropout)        (None, 1, 64)             0         \n",
      "                                                                 \n",
      " flatten_12 (Flatten)        (None, 64)                0         \n",
      "                                                                 \n",
      " dense_24 (Dense)            (None, 100)               6500      \n",
      "                                                                 \n",
      " dense_25 (Dense)            (None, 4)                 404       \n",
      "                                                                 \n",
      "=================================================================\n",
      "Total params: 32,056\n",
      "Trainable params: 32,056\n",
      "Non-trainable params: 0\n",
      "_________________________________________________________________\n",
      "None\n",
      ">#3: 68.012\n",
      "Model: \"sequential_13\"\n",
      "_________________________________________________________________\n",
      " Layer (type)                Output Shape              Param #   \n",
      "=================================================================\n",
      " conv1d_39 (Conv1D)          (None, 1, 64)             448       \n",
      "                                                                 \n",
      " max_pooling1d_39 (MaxPoolin  (None, 1, 64)            0         \n",
      " g1D)                                                            \n",
      "                                                                 \n",
      " conv1d_40 (Conv1D)          (None, 1, 64)             12352     \n",
      "                                                                 \n",
      " max_pooling1d_40 (MaxPoolin  (None, 1, 64)            0         \n",
      " g1D)                                                            \n",
      "                                                                 \n",
      " conv1d_41 (Conv1D)          (None, 1, 64)             12352     \n",
      "                                                                 \n",
      " max_pooling1d_41 (MaxPoolin  (None, 1, 64)            0         \n",
      " g1D)                                                            \n",
      "                                                                 \n",
      " dropout_13 (Dropout)        (None, 1, 64)             0         \n",
      "                                                                 \n",
      " flatten_13 (Flatten)        (None, 64)                0         \n",
      "                                                                 \n",
      " dense_26 (Dense)            (None, 100)               6500      \n",
      "                                                                 \n",
      " dense_27 (Dense)            (None, 4)                 404       \n",
      "                                                                 \n",
      "=================================================================\n",
      "Total params: 32,056\n",
      "Trainable params: 32,056\n",
      "Non-trainable params: 0\n",
      "_________________________________________________________________\n",
      "None\n",
      ">#4: 67.468\n",
      "Model: \"sequential_14\"\n",
      "_________________________________________________________________\n",
      " Layer (type)                Output Shape              Param #   \n",
      "=================================================================\n",
      " conv1d_42 (Conv1D)          (None, 1, 64)             448       \n",
      "                                                                 \n",
      " max_pooling1d_42 (MaxPoolin  (None, 1, 64)            0         \n"
     ]
    },
    {
     "name": "stdout",
     "output_type": "stream",
     "text": [
      " g1D)                                                            \n",
      "                                                                 \n",
      " conv1d_43 (Conv1D)          (None, 1, 64)             12352     \n",
      "                                                                 \n",
      " max_pooling1d_43 (MaxPoolin  (None, 1, 64)            0         \n",
      " g1D)                                                            \n",
      "                                                                 \n",
      " conv1d_44 (Conv1D)          (None, 1, 64)             12352     \n",
      "                                                                 \n",
      " max_pooling1d_44 (MaxPoolin  (None, 1, 64)            0         \n",
      " g1D)                                                            \n",
      "                                                                 \n",
      " dropout_14 (Dropout)        (None, 1, 64)             0         \n",
      "                                                                 \n",
      " flatten_14 (Flatten)        (None, 64)                0         \n",
      "                                                                 \n",
      " dense_28 (Dense)            (None, 100)               6500      \n",
      "                                                                 \n",
      " dense_29 (Dense)            (None, 4)                 404       \n",
      "                                                                 \n",
      "=================================================================\n",
      "Total params: 32,056\n",
      "Trainable params: 32,056\n",
      "Non-trainable params: 0\n",
      "_________________________________________________________________\n",
      "None\n",
      ">#5: 66.698\n",
      "Model: \"sequential_15\"\n",
      "_________________________________________________________________\n",
      " Layer (type)                Output Shape              Param #   \n",
      "=================================================================\n",
      " conv1d_45 (Conv1D)          (None, 1, 64)             448       \n",
      "                                                                 \n",
      " max_pooling1d_45 (MaxPoolin  (None, 1, 64)            0         \n",
      " g1D)                                                            \n",
      "                                                                 \n",
      " conv1d_46 (Conv1D)          (None, 1, 64)             12352     \n",
      "                                                                 \n",
      " max_pooling1d_46 (MaxPoolin  (None, 1, 64)            0         \n",
      " g1D)                                                            \n",
      "                                                                 \n",
      " conv1d_47 (Conv1D)          (None, 1, 64)             12352     \n",
      "                                                                 \n",
      " max_pooling1d_47 (MaxPoolin  (None, 1, 64)            0         \n",
      " g1D)                                                            \n",
      "                                                                 \n",
      " dropout_15 (Dropout)        (None, 1, 64)             0         \n",
      "                                                                 \n",
      " flatten_15 (Flatten)        (None, 64)                0         \n",
      "                                                                 \n",
      " dense_30 (Dense)            (None, 100)               6500      \n",
      "                                                                 \n",
      " dense_31 (Dense)            (None, 4)                 404       \n",
      "                                                                 \n",
      "=================================================================\n",
      "Total params: 32,056\n",
      "Trainable params: 32,056\n",
      "Non-trainable params: 0\n",
      "_________________________________________________________________\n",
      "None\n",
      ">#6: 64.481\n",
      "Model: \"sequential_16\"\n",
      "_________________________________________________________________\n",
      " Layer (type)                Output Shape              Param #   \n",
      "=================================================================\n",
      " conv1d_48 (Conv1D)          (None, 1, 64)             448       \n",
      "                                                                 \n",
      " max_pooling1d_48 (MaxPoolin  (None, 1, 64)            0         \n",
      " g1D)                                                            \n",
      "                                                                 \n",
      " conv1d_49 (Conv1D)          (None, 1, 64)             12352     \n",
      "                                                                 \n",
      " max_pooling1d_49 (MaxPoolin  (None, 1, 64)            0         \n",
      " g1D)                                                            \n",
      "                                                                 \n",
      " conv1d_50 (Conv1D)          (None, 1, 64)             12352     \n",
      "                                                                 \n",
      " max_pooling1d_50 (MaxPoolin  (None, 1, 64)            0         \n",
      " g1D)                                                            \n",
      "                                                                 \n",
      " dropout_16 (Dropout)        (None, 1, 64)             0         \n",
      "                                                                 \n",
      " flatten_16 (Flatten)        (None, 64)                0         \n",
      "                                                                 \n",
      " dense_32 (Dense)            (None, 100)               6500      \n",
      "                                                                 \n",
      " dense_33 (Dense)            (None, 4)                 404       \n",
      "                                                                 \n",
      "=================================================================\n",
      "Total params: 32,056\n",
      "Trainable params: 32,056\n",
      "Non-trainable params: 0\n",
      "_________________________________________________________________\n",
      "None\n",
      ">#7: 66.698\n",
      "Model: \"sequential_17\"\n",
      "_________________________________________________________________\n",
      " Layer (type)                Output Shape              Param #   \n",
      "=================================================================\n",
      " conv1d_51 (Conv1D)          (None, 1, 64)             448       \n",
      "                                                                 \n",
      " max_pooling1d_51 (MaxPoolin  (None, 1, 64)            0         \n",
      " g1D)                                                            \n",
      "                                                                 \n",
      " conv1d_52 (Conv1D)          (None, 1, 64)             12352     \n",
      "                                                                 \n",
      " max_pooling1d_52 (MaxPoolin  (None, 1, 64)            0         \n",
      " g1D)                                                            \n",
      "                                                                 \n",
      " conv1d_53 (Conv1D)          (None, 1, 64)             12352     \n",
      "                                                                 \n",
      " max_pooling1d_53 (MaxPoolin  (None, 1, 64)            0         \n",
      " g1D)                                                            \n",
      "                                                                 \n",
      " dropout_17 (Dropout)        (None, 1, 64)             0         \n",
      "                                                                 \n",
      " flatten_17 (Flatten)        (None, 64)                0         \n",
      "                                                                 \n",
      " dense_34 (Dense)            (None, 100)               6500      \n",
      "                                                                 \n",
      " dense_35 (Dense)            (None, 4)                 404       \n",
      "                                                                 \n",
      "=================================================================\n",
      "Total params: 32,056\n",
      "Trainable params: 32,056\n",
      "Non-trainable params: 0\n",
      "_________________________________________________________________\n",
      "None\n",
      ">#8: 64.683\n",
      "Model: \"sequential_18\"\n",
      "_________________________________________________________________\n",
      " Layer (type)                Output Shape              Param #   \n",
      "=================================================================\n",
      " conv1d_54 (Conv1D)          (None, 1, 64)             448       \n",
      "                                                                 \n",
      " max_pooling1d_54 (MaxPoolin  (None, 1, 64)            0         \n",
      " g1D)                                                            \n",
      "                                                                 \n",
      " conv1d_55 (Conv1D)          (None, 1, 64)             12352     \n",
      "                                                                 \n",
      " max_pooling1d_55 (MaxPoolin  (None, 1, 64)            0         \n",
      " g1D)                                                            \n"
     ]
    },
    {
     "name": "stdout",
     "output_type": "stream",
     "text": [
      "                                                                 \n",
      " conv1d_56 (Conv1D)          (None, 1, 64)             12352     \n",
      "                                                                 \n",
      " max_pooling1d_56 (MaxPoolin  (None, 1, 64)            0         \n",
      " g1D)                                                            \n",
      "                                                                 \n",
      " dropout_18 (Dropout)        (None, 1, 64)             0         \n",
      "                                                                 \n",
      " flatten_18 (Flatten)        (None, 64)                0         \n",
      "                                                                 \n",
      " dense_36 (Dense)            (None, 100)               6500      \n",
      "                                                                 \n",
      " dense_37 (Dense)            (None, 4)                 404       \n",
      "                                                                 \n",
      "=================================================================\n",
      "Total params: 32,056\n",
      "Trainable params: 32,056\n",
      "Non-trainable params: 0\n",
      "_________________________________________________________________\n",
      "None\n",
      ">#9: 67.468\n",
      "Model: \"sequential_19\"\n",
      "_________________________________________________________________\n",
      " Layer (type)                Output Shape              Param #   \n",
      "=================================================================\n",
      " conv1d_57 (Conv1D)          (None, 1, 64)             448       \n",
      "                                                                 \n",
      " max_pooling1d_57 (MaxPoolin  (None, 1, 64)            0         \n",
      " g1D)                                                            \n",
      "                                                                 \n",
      " conv1d_58 (Conv1D)          (None, 1, 64)             12352     \n",
      "                                                                 \n",
      " max_pooling1d_58 (MaxPoolin  (None, 1, 64)            0         \n",
      " g1D)                                                            \n",
      "                                                                 \n",
      " conv1d_59 (Conv1D)          (None, 1, 64)             12352     \n",
      "                                                                 \n",
      " max_pooling1d_59 (MaxPoolin  (None, 1, 64)            0         \n",
      " g1D)                                                            \n",
      "                                                                 \n",
      " dropout_19 (Dropout)        (None, 1, 64)             0         \n",
      "                                                                 \n",
      " flatten_19 (Flatten)        (None, 64)                0         \n",
      "                                                                 \n",
      " dense_38 (Dense)            (None, 100)               6500      \n",
      "                                                                 \n",
      " dense_39 (Dense)            (None, 4)                 404       \n",
      "                                                                 \n",
      "=================================================================\n",
      "Total params: 32,056\n",
      "Trainable params: 32,056\n",
      "Non-trainable params: 0\n",
      "_________________________________________________________________\n",
      "None\n",
      ">#10: 66.698\n"
     ]
    }
   ],
   "source": [
    "# fit and evaluate a model\n",
    "def evaluate_model(trainX, trainy, testX, testy):\n",
    "    verbose, epochs, batch_size = 0, 10, 32\n",
    "    n_timesteps, n_features, n_outputs = trainX.shape[1], trainX.shape[2], trainy.shape[1]\n",
    "    model = Sequential()\n",
    "    model.add(Conv1D(filters=64, kernel_size=3, activation='relu', input_shape=(n_timesteps,n_features), padding = 'same'))\n",
    "    model.add(MaxPooling1D(pool_size=1))\n",
    "    model.add(Conv1D(filters=64, kernel_size=3, activation='relu', padding = 'same'))\n",
    "    model.add(MaxPooling1D(pool_size=1))\n",
    "    model.add(Conv1D(filters=64, kernel_size=3, activation='relu', padding = 'same'))\n",
    "    model.add(MaxPooling1D(pool_size=1))\n",
    "    model.add(Dropout(0.5))\n",
    "    model.add(Flatten())\n",
    "    model.add(Dense(100, activation='relu'))\n",
    "    model.add(Dense(n_outputs, activation='softmax'))\n",
    "    model.compile(loss='categorical_crossentropy', optimizer='adam', metrics=['accuracy'])\n",
    "    # fit network\n",
    "    print(model.summary())\n",
    "    model.fit(trainX, trainy, epochs=epochs, batch_size=batch_size, verbose=verbose)\n",
    "    # evaluate model\n",
    "    _, accuracy = model.evaluate(testX, testy, batch_size=batch_size, verbose=verbose)\n",
    "    return accuracy\n",
    "\n",
    "# run an experiment\n",
    "def run_experiment(repeats=10):\n",
    "    # repeat experiment\n",
    "    scores = list()\n",
    "    for r in range(repeats):\n",
    "        score = evaluate_model(trainX, trainy, testX, testy)\n",
    "        score = score * 100.0\n",
    "        print('>#%d: %.3f' % (r+1, score))\n",
    "        scores.append(score)\n",
    "\n",
    "# run the experiment\n",
    "run_experiment()"
   ]
  },
  {
   "cell_type": "markdown",
   "id": "5c159e9b",
   "metadata": {},
   "source": [
    "### Tuning the number of filters"
   ]
  },
  {
   "cell_type": "code",
   "execution_count": 8,
   "id": "f9af04c4",
   "metadata": {
    "scrolled": false
   },
   "outputs": [
    {
     "name": "stdout",
     "output_type": "stream",
     "text": [
      ">p=8 #1: 46.908\n",
      ">p=8 #2: 47.694\n",
      ">p=8 #3: 61.431\n",
      ">p=8 #4: 64.761\n",
      ">p=8 #5: 44.629\n",
      ">p=8 #6: 64.761\n",
      ">p=8 #7: 64.761\n",
      ">p=8 #8: 58.366\n",
      ">p=8 #9: 61.431\n",
      ">p=8 #10: 64.761\n",
      ">p=16 #1: 64.846\n",
      ">p=16 #2: 64.216\n",
      ">p=16 #3: 64.761\n",
      ">p=16 #4: 64.846\n",
      ">p=16 #5: 64.761\n",
      ">p=16 #6: 56.912\n",
      ">p=16 #7: 64.597\n",
      ">p=16 #8: 64.846\n",
      ">p=16 #9: 64.846\n",
      ">p=16 #10: 64.846\n",
      ">p=32 #1: 61.898\n",
      ">p=32 #2: 64.683\n",
      ">p=32 #3: 64.846\n",
      ">p=32 #4: 64.683\n",
      ">p=32 #5: 64.683\n",
      ">p=32 #6: 64.683\n",
      ">p=32 #7: 64.683\n",
      ">p=32 #8: 64.683\n",
      ">p=32 #9: 64.846\n",
      ">p=32 #10: 64.846\n",
      ">p=64 #1: 67.631\n",
      ">p=64 #2: 67.468\n",
      ">p=64 #3: 67.203\n",
      ">p=64 #4: 67.242\n",
      ">p=64 #5: 67.242\n",
      ">p=64 #6: 68.012\n",
      ">p=64 #7: 68.012\n",
      ">p=64 #8: 65.228\n",
      ">p=64 #9: 66.698\n",
      ">p=64 #10: 66.698\n",
      ">p=128 #1: 67.468\n",
      ">p=128 #2: 65.251\n",
      ">p=128 #3: 68.012\n",
      ">p=128 #4: 66.659\n",
      ">p=128 #5: 66.659\n",
      ">p=128 #6: 68.012\n",
      ">p=128 #7: 66.659\n",
      ">p=128 #8: 67.203\n",
      ">p=128 #9: 66.659\n",
      ">p=128 #10: 67.203\n",
      ">p=256 #1: 67.468\n",
      ">p=256 #2: 66.659\n",
      ">p=256 #3: 66.659\n",
      ">p=256 #4: 66.278\n",
      ">p=256 #5: 66.659\n",
      ">p=256 #6: 67.203\n",
      ">p=256 #7: 66.659\n",
      ">p=256 #8: 64.442\n",
      ">p=256 #9: 66.659\n",
      ">p=256 #10: 66.659\n",
      "[[46.90781831741333, 47.69350588321686, 61.43134832382202, 64.76079225540161, 44.62854862213135, 64.76079225540161, 64.76079225540161, 58.36639404296875, 61.43134832382202, 64.76079225540161], [64.84636068344116, 64.2162561416626, 64.76079225540161, 64.84636068344116, 64.76079225540161, 56.91170692443848, 64.5974338054657, 64.84636068344116, 64.84636068344116, 64.84636068344116], [61.89809441566467, 64.68300223350525, 64.84636068344116, 64.68300223350525, 64.68300223350525, 64.68300223350525, 64.68300223350525, 64.68300223350525, 64.84636068344116, 64.84636068344116], [67.63127446174622, 67.46791005134583, 67.2034204006195, 67.24231839179993, 67.24231839179993, 68.01244616508484, 68.01244616508484, 65.22753834724426, 66.69778227806091, 66.69778227806091], [67.46791005134583, 65.25087356567383, 68.01244616508484, 66.65889024734497, 66.65889024734497, 68.01244616508484, 66.65889024734497, 67.2034204006195, 66.65889024734497, 67.2034204006195], [67.46791005134583, 66.65889024734497, 66.65889024734497, 66.27771258354187, 66.65889024734497, 67.2034204006195, 66.65889024734497, 64.44185376167297, 66.65889024734497, 66.65889024734497]] [8, 16, 32, 64, 128, 256]\n",
      "Param=8: 57.950% (+/-7.839)\n",
      "Param=16: 63.948% (+/-2.353)\n",
      "Param=32: 64.454% (+/-0.855)\n",
      "Param=64: 67.144% (+/-0.771)\n",
      "Param=128: 66.979% (+/-0.766)\n",
      "Param=256: 66.534% (+/-0.765)\n"
     ]
    },
    {
     "data": {
      "image/png": "[encoded data removed]",
      "text/plain": [
       "<Figure size 432x288 with 1 Axes>"
      ]
     },
     "metadata": {
      "needs_background": "light"
     },
     "output_type": "display_data"
    }
   ],
   "source": [
    "# fit and evaluate a model\n",
    "def evaluate_model(trainX, trainy, testX, testy, n_filters):\n",
    "    verbose, epochs, batch_size = 0, 10, 32\n",
    "    n_timesteps, n_features, n_outputs = trainX.shape[1], trainX.shape[2], trainy.shape[1]\n",
    "    model = Sequential()\n",
    "    model.add(Conv1D(filters=n_filters, kernel_size=3, activation='relu', input_shape=(n_timesteps,n_features), padding = \"same\"))\n",
    "    model.add(Conv1D(filters=n_filters, kernel_size=3, activation='relu', padding = \"same\"))\n",
    "    model.add(Dropout(0.5))\n",
    "    model.add(MaxPooling1D(pool_size=1))\n",
    "    model.add(Flatten())\n",
    "    model.add(Dense(100, activation='relu'))\n",
    "    model.add(Dense(n_outputs, activation='softmax'))\n",
    "    model.compile(loss='categorical_crossentropy', optimizer='adam', metrics=['accuracy'])\n",
    "    # fit network\n",
    "    model.fit(trainX, trainy, epochs=epochs, batch_size=batch_size, verbose=verbose)\n",
    "    # evaluate model\n",
    "    _, accuracy = model.evaluate(testX, testy, batch_size=batch_size, verbose=0)\n",
    "    return accuracy\n",
    "\n",
    "# summarize scores\n",
    "def summarize_results(scores, params):\n",
    "    print(scores, params)\n",
    "    # summarize mean and standard deviation\n",
    "    for i in range(len(scores)):\n",
    "        m, s = mean(scores[i]), std(scores[i])\n",
    "        print('Param=%d: %.3f%% (+/-%.3f)' % (params[i], m, s))\n",
    "    # boxplot of scores\n",
    "    pyplot.boxplot(scores, labels=params)\n",
    "    pyplot.savefig('exp_cnn_filters.png')\n",
    "\n",
    "# run an experiment\n",
    "def run_experiment(params, repeats=10):\n",
    "\n",
    "    # test each parameter\n",
    "    all_scores = list()\n",
    "    for p in params:\n",
    "        # repeat experiment\n",
    "        scores = list()\n",
    "        for r in range(repeats):\n",
    "            score = evaluate_model(trainX, trainy, testX, testy, p)\n",
    "            score = score * 100.0\n",
    "            print('>p=%d #%d: %.3f' % (p, r+1, score))\n",
    "            scores.append(score)\n",
    "        all_scores.append(scores)\n",
    "    # summarize results\n",
    "    summarize_results(all_scores, params)\n",
    "\n",
    "# run the experiment\n",
    "n_params = [8, 16, 32, 64, 128, 256]\n",
    "run_experiment(n_params)"
   ]
  },
  {
   "cell_type": "markdown",
   "id": "dcdf88c0",
   "metadata": {},
   "source": [
    "### Tuning size of kernel"
   ]
  },
  {
   "cell_type": "code",
   "execution_count": 9,
   "id": "f9bc91b6",
   "metadata": {
    "scrolled": false
   },
   "outputs": [
    {
     "name": "stdout",
     "output_type": "stream",
     "text": [
      ">p=2 #1: 67.203\n",
      ">p=2 #2: 62.466\n",
      ">p=2 #3: 66.698\n",
      ">p=2 #4: 68.012\n",
      ">p=2 #5: 62.466\n",
      ">p=2 #6: 66.659\n",
      ">p=2 #7: 66.698\n",
      ">p=2 #8: 64.683\n",
      ">p=2 #9: 64.683\n",
      ">p=2 #10: 66.698\n",
      ">p=3 #1: 66.698\n",
      ">p=3 #2: 64.481\n",
      ">p=3 #3: 65.228\n",
      ">p=3 #4: 62.466\n",
      ">p=3 #5: 64.683\n",
      ">p=3 #6: 67.468\n",
      ">p=3 #7: 64.683\n",
      ">p=3 #8: 67.468\n",
      ">p=3 #9: 64.683\n",
      ">p=3 #10: 62.466\n",
      ">p=5 #1: 66.698\n",
      ">p=5 #2: 67.468\n",
      ">p=5 #3: 66.698\n",
      ">p=5 #4: 65.228\n",
      ">p=5 #5: 68.012\n",
      ">p=5 #6: 64.302\n",
      ">p=5 #7: 67.468\n",
      ">p=5 #8: 66.698\n",
      ">p=5 #9: 64.683\n",
      ">p=5 #10: 65.228\n",
      ">p=7 #1: 64.683\n",
      ">p=7 #2: 62.466\n",
      ">p=7 #3: 65.795\n",
      ">p=7 #4: 65.228\n",
      ">p=7 #5: 67.242\n",
      ">p=7 #6: 66.698\n",
      ">p=7 #7: 65.228\n",
      ">p=7 #8: 66.698\n",
      ">p=7 #9: 61.898\n",
      ">p=7 #10: 68.012\n",
      ">p=11 #1: 66.317\n",
      ">p=11 #2: 68.012\n",
      ">p=11 #3: 68.012\n",
      ">p=11 #4: 61.517\n",
      ">p=11 #5: 64.481\n",
      ">p=11 #6: 64.846\n",
      ">p=11 #7: 67.468\n",
      ">p=11 #8: 61.898\n",
      ">p=11 #9: 67.242\n",
      ">p=11 #10: 66.861\n",
      "[[67.2034204006195, 62.46596574783325, 66.69778227806091, 68.01244616508484, 62.46596574783325, 66.65889024734497, 66.69778227806091, 64.68300223350525, 64.68300223350525, 66.69778227806091], [66.69778227806091, 64.48074579238892, 65.22753834724426, 62.46596574783325, 64.68300223350525, 67.46791005134583, 64.68300223350525, 67.46791005134583, 64.68300223350525, 62.46596574783325], [66.69778227806091, 67.46791005134583, 66.69778227806091, 65.22753834724426, 68.01244616508484, 64.30183053016663, 67.46791005134583, 66.69778227806091, 64.68300223350525, 65.22753834724426], [64.68300223350525, 62.46596574783325, 65.79540967941284, 65.22753834724426, 67.24231839179993, 66.69778227806091, 65.22753834724426, 66.69778227806091, 61.89809441566467, 68.01244616508484], [66.31661057472229, 68.01244616508484, 68.01244616508484, 61.51691675186157, 64.48074579238892, 64.84636068344116, 67.46791005134583, 61.89809441566467, 67.24231839179993, 66.86114072799683]] [2, 3, 5, 7, 11]\n",
      "Param=2: 65.627% (+/-1.856)\n",
      "Param=3: 65.032% (+/-1.689)\n",
      "Param=5: 66.248% (+/-1.225)\n",
      "Param=7: 65.395% (+/-1.876)\n",
      "Param=11: 65.665% (+/-2.282)\n"
     ]
    },
    {
     "data": {
      "image/png": "[encoded data removed]",
      "text/plain": [
       "<Figure size 432x288 with 1 Axes>"
      ]
     },
     "metadata": {
      "needs_background": "light"
     },
     "output_type": "display_data"
    }
   ],
   "source": [
    "# fit and evaluate a model\n",
    "def evaluate_model(trainX, trainy, testX, testy, n_kernel):\n",
    "    verbose, epochs, batch_size = 0, 15, 32\n",
    "    n_timesteps, n_features, n_outputs = trainX.shape[1], trainX.shape[2], trainy.shape[1]\n",
    "    model = Sequential()\n",
    "    model.add(Conv1D(filters=64, kernel_size=n_kernel, activation='relu', input_shape=(n_timesteps,n_features), padding = \"same\"))\n",
    "    model.add(Conv1D(filters=64, kernel_size=n_kernel, activation='relu', padding = \"same\"))\n",
    "    model.add(Dropout(0.5))\n",
    "    model.add(MaxPooling1D(pool_size=1))\n",
    "    model.add(Flatten())\n",
    "    model.add(Dense(100, activation='relu'))\n",
    "    model.add(Dense(n_outputs, activation='softmax'))\n",
    "    model.compile(loss='categorical_crossentropy', optimizer='adam', metrics=['accuracy'])\n",
    "    # fit network\n",
    "    model.fit(trainX, trainy, epochs=epochs, batch_size=batch_size, verbose=verbose)\n",
    "    # evaluate model\n",
    "    _, accuracy = model.evaluate(testX, testy, batch_size=batch_size, verbose=0)\n",
    "    return accuracy\n",
    "\n",
    "# summarize scores\n",
    "def summarize_results(scores, params):\n",
    "    print(scores, params)\n",
    "    # summarize mean and standard deviation\n",
    "    for i in range(len(scores)):\n",
    "        m, s = mean(scores[i]), std(scores[i])\n",
    "        print('Param=%d: %.3f%% (+/-%.3f)' % (params[i], m, s))\n",
    "    # boxplot of scores\n",
    "    pyplot.boxplot(scores, labels=params)\n",
    "    pyplot.savefig('exp_cnn_kernel.png')\n",
    "\n",
    "# run an experiment\n",
    "def run_experiment(params, repeats=10):\n",
    "\n",
    "    # test each parameter\n",
    "    all_scores = list()\n",
    "    for p in params:\n",
    "        # repeat experiment\n",
    "        scores = list()\n",
    "        for r in range(repeats):\n",
    "            score = evaluate_model(trainX, trainy, testX, testy, p)\n",
    "            score = score * 100.0\n",
    "            print('>p=%d #%d: %.3f' % (p, r+1, score))\n",
    "            scores.append(score)\n",
    "        all_scores.append(scores)\n",
    "    # summarize results\n",
    "    summarize_results(all_scores, params)\n",
    "\n",
    "# run the experiment\n",
    "n_params = [2, 3, 5, 7, 11]\n",
    "run_experiment(n_params)"
   ]
  },
  {
   "cell_type": "markdown",
   "id": "a014459e",
   "metadata": {},
   "source": [
    "### Running the CNN with the tuned parameters, filter = 64, kernel size = 5"
   ]
  },
  {
   "cell_type": "code",
   "execution_count": 46,
   "id": "eaef6c05",
   "metadata": {},
   "outputs": [
    {
     "name": "stdout",
     "output_type": "stream",
     "text": [
      "402/402 [==============================] - 0s 708us/step\n",
      ">#1: 67.468\n",
      "402/402 [==============================] - 0s 688us/step\n",
      ">#2: 64.846\n",
      "402/402 [==============================] - 0s 696us/step\n",
      ">#3: 64.302\n",
      "402/402 [==============================] - 0s 741us/step\n",
      ">#4: 64.683\n",
      "402/402 [==============================] - 0s 719us/step\n",
      ">#5: 64.683\n",
      "402/402 [==============================] - 0s 673us/step\n",
      ">#6: 67.242\n",
      "402/402 [==============================] - 0s 684us/step\n",
      ">#7: 66.698\n",
      "402/402 [==============================] - 0s 693us/step\n",
      ">#8: 67.468\n",
      "402/402 [==============================] - 0s 690us/step\n"
     ]
    },
    {
     "name": "stderr",
     "output_type": "stream",
     "text": [
      "WARNING:absl:Found untraced functions such as _jit_compiled_convolution_op, _jit_compiled_convolution_op, _update_step_xla while saving (showing 3 of 3). These functions will not be directly callable after loading.\n"
     ]
    },
    {
     "name": "stdout",
     "output_type": "stream",
     "text": [
      "INFO:tensorflow:Assets written to: best_model_0.6801244616508484/assets\n"
     ]
    },
    {
     "name": "stderr",
     "output_type": "stream",
     "text": [
      "INFO:tensorflow:Assets written to: best_model_0.6801244616508484/assets\n"
     ]
    },
    {
     "name": "stdout",
     "output_type": "stream",
     "text": [
      ">#9: 68.012\n",
      "402/402 [==============================] - 0s 672us/step\n",
      ">#10: 64.683\n",
      "              precision    recall  f1-score   support\n",
      "\n",
      "         0.0       0.72      0.68      0.70      3639\n",
      "         1.0       0.63      0.68      0.65      1606\n",
      "         2.0       0.69      0.72      0.70      5977\n",
      "         3.0       0.61      0.55      0.58      1633\n",
      "\n",
      "    accuracy                           0.68     12855\n",
      "   macro avg       0.66      0.66      0.66     12855\n",
      "weighted avg       0.68      0.68      0.68     12855\n",
      "\n",
      "Balanced accuracy: 0.6562619456847416\n",
      "Accuracy: 0.6801244651886426\n",
      "Accuracy per class: [1. 1. 1. 1.]\n"
     ]
    },
    {
     "data": {
      "image/png": "[encoded data removed]",
      "text/plain": [
       "<Figure size 432x288 with 2 Axes>"
      ]
     },
     "metadata": {
      "needs_background": "light"
     },
     "output_type": "display_data"
    }
   ],
   "source": [
    "#fit and evaluate a model\n",
    "filters = 64\n",
    "kernel_size = 5\n",
    "def evaluate_model(trainX, trainy, testX, testy):\n",
    "    verbose, epochs, batch_size = 0, 10, 32\n",
    "    n_timesteps, n_features, n_outputs = trainX.shape[1], trainX.shape[2], trainy.shape[1]\n",
    "    model = Sequential()\n",
    "    model.add(Conv1D(filters, kernel_size, activation='relu', input_shape=(n_timesteps,n_features), padding = 'same'))\n",
    "    model.add(Conv1D(filters, kernel_size, activation='relu', padding = 'same'))\n",
    "    model.add(Dropout(0.5))\n",
    "    model.add(Flatten())\n",
    "    model.add(Dense(100, activation='relu'))\n",
    "    model.add(Dense(n_outputs, activation='softmax'))\n",
    "    model.compile(loss='categorical_crossentropy', optimizer='adam', metrics=['accuracy'])\n",
    "    # fit network\n",
    "    model.fit(trainX, trainy, epochs=epochs, batch_size=batch_size, verbose=verbose)\n",
    "    # evaluate model\n",
    "    _, accuracy = model.evaluate(testX, testy, batch_size=batch_size, verbose=verbose)\n",
    "    preds = model.predict(testX)\n",
    "    classes = np.argmax(preds,axis=1)\n",
    "    if accuracy > 0.68:\n",
    "        model.save(\"best_model_\" + str(accuracy))\n",
    "    return classes, accuracy\n",
    "\n",
    "\n",
    "# run an experiment\n",
    "def run_experiment(repeats=10):\n",
    "    # repeat experiment\n",
    "    best_preds = []\n",
    "    max_score = 0\n",
    "    for r in range(repeats):\n",
    "        preds, score = evaluate_model(trainX, trainy, testX, testy)\n",
    "        score = score * 100.0\n",
    "        print('>#%d: %.3f' % (r+1, score))\n",
    "        if score > max_score:\n",
    "            max_score = score\n",
    "            best_preds = preds\n",
    "    # summarize results\n",
    "    summarize_result(y_te, best_preds)\n",
    "\n",
    "# run the experiment\n",
    "run_experiment()"
   ]
  },
  {
   "cell_type": "markdown",
   "id": "c4af3672",
   "metadata": {},
   "source": [
    "### Multi - headed CNN"
   ]
  },
  {
   "cell_type": "code",
   "execution_count": 15,
   "id": "85f1983f",
   "metadata": {},
   "outputs": [
    {
     "name": "stdout",
     "output_type": "stream",
     "text": [
      "You must install pydot (`pip install pydot`) and install graphviz (see instructions at https://graphviz.gitlab.io/download/) for plot_model to work.\n"
     ]
    },
    {
     "ename": "ValueError",
     "evalue": "in user code:\n\n    File \"/Users/elifkurtay/opt/anaconda3/lib/python3.9/site-packages/keras/engine/training.py\", line 2137, in predict_function  *\n        return step_function(self, iterator)\n    File \"/Users/elifkurtay/opt/anaconda3/lib/python3.9/site-packages/keras/engine/training.py\", line 2123, in step_function  **\n        outputs = model.distribute_strategy.run(run_step, args=(data,))\n    File \"/Users/elifkurtay/opt/anaconda3/lib/python3.9/site-packages/keras/engine/training.py\", line 2111, in run_step  **\n        outputs = model.predict_step(data)\n    File \"/Users/elifkurtay/opt/anaconda3/lib/python3.9/site-packages/keras/engine/training.py\", line 2079, in predict_step\n        return self(x, training=False)\n    File \"/Users/elifkurtay/opt/anaconda3/lib/python3.9/site-packages/keras/utils/traceback_utils.py\", line 70, in error_handler\n        raise e.with_traceback(filtered_tb) from None\n    File \"/Users/elifkurtay/opt/anaconda3/lib/python3.9/site-packages/keras/engine/input_spec.py\", line 216, in assert_input_compatibility\n        raise ValueError(\n\n    ValueError: Layer \"model_15\" expects 3 input(s), but it received 1 input tensors. Inputs received: [<tf.Tensor 'IteratorGetNext:0' shape=(None, 1, 2) dtype=float32>]\n",
     "output_type": "error",
     "traceback": [
      "\u001b[0;31m---------------------------------------------------------------------------\u001b[0m",
      "\u001b[0;31mValueError\u001b[0m                                Traceback (most recent call last)",
      "Input \u001b[0;32mIn [15]\u001b[0m, in \u001b[0;36m<cell line: 61>\u001b[0;34m()\u001b[0m\n\u001b[1;32m     58\u001b[0m     summarize_result(best_preds)\n\u001b[1;32m     60\u001b[0m \u001b[38;5;66;03m# run the experiment\u001b[39;00m\n\u001b[0;32m---> 61\u001b[0m \u001b[43mrun_experiment\u001b[49m\u001b[43m(\u001b[49m\u001b[43m)\u001b[49m\n",
      "Input \u001b[0;32mIn [15]\u001b[0m, in \u001b[0;36mrun_experiment\u001b[0;34m(repeats)\u001b[0m\n\u001b[1;32m     49\u001b[0m max_score \u001b[38;5;241m=\u001b[39m \u001b[38;5;241m0\u001b[39m\n\u001b[1;32m     50\u001b[0m \u001b[38;5;28;01mfor\u001b[39;00m r \u001b[38;5;129;01min\u001b[39;00m \u001b[38;5;28mrange\u001b[39m(repeats):\n\u001b[0;32m---> 51\u001b[0m     preds, score \u001b[38;5;241m=\u001b[39m \u001b[43mevaluate_model\u001b[49m\u001b[43m(\u001b[49m\u001b[43mtrainX\u001b[49m\u001b[43m,\u001b[49m\u001b[43m \u001b[49m\u001b[43mtrainy\u001b[49m\u001b[43m,\u001b[49m\u001b[43m \u001b[49m\u001b[43mtestX\u001b[49m\u001b[43m,\u001b[49m\u001b[43m \u001b[49m\u001b[43mtesty\u001b[49m\u001b[43m)\u001b[49m\n\u001b[1;32m     52\u001b[0m     score \u001b[38;5;241m=\u001b[39m score \u001b[38;5;241m*\u001b[39m \u001b[38;5;241m100.0\u001b[39m\n\u001b[1;32m     53\u001b[0m     \u001b[38;5;28mprint\u001b[39m(\u001b[38;5;124m'\u001b[39m\u001b[38;5;124m>#\u001b[39m\u001b[38;5;132;01m%d\u001b[39;00m\u001b[38;5;124m: \u001b[39m\u001b[38;5;132;01m%.3f\u001b[39;00m\u001b[38;5;124m'\u001b[39m \u001b[38;5;241m%\u001b[39m (r\u001b[38;5;241m+\u001b[39m\u001b[38;5;241m1\u001b[39m, score))\n",
      "Input \u001b[0;32mIn [15]\u001b[0m, in \u001b[0;36mevaluate_model\u001b[0;34m(trainX, trainy, testX, testy)\u001b[0m\n\u001b[1;32m     39\u001b[0m \u001b[38;5;66;03m# evaluate model\u001b[39;00m\n\u001b[1;32m     40\u001b[0m _, accuracy \u001b[38;5;241m=\u001b[39m model\u001b[38;5;241m.\u001b[39mevaluate([testX,testX,testX], testy, batch_size\u001b[38;5;241m=\u001b[39mbatch_size, verbose\u001b[38;5;241m=\u001b[39m\u001b[38;5;241m0\u001b[39m)\n\u001b[0;32m---> 41\u001b[0m preds \u001b[38;5;241m=\u001b[39m \u001b[43mmodel\u001b[49m\u001b[38;5;241;43m.\u001b[39;49m\u001b[43mpredict\u001b[49m\u001b[43m(\u001b[49m\u001b[43mtestX\u001b[49m\u001b[43m)\u001b[49m\n\u001b[1;32m     42\u001b[0m classes \u001b[38;5;241m=\u001b[39m np\u001b[38;5;241m.\u001b[39margmax(preds,axis\u001b[38;5;241m=\u001b[39m\u001b[38;5;241m1\u001b[39m)\n\u001b[1;32m     43\u001b[0m \u001b[38;5;28;01mreturn\u001b[39;00m classes, accuracy\n",
      "File \u001b[0;32m~/opt/anaconda3/lib/python3.9/site-packages/keras/utils/traceback_utils.py:70\u001b[0m, in \u001b[0;36mfilter_traceback.<locals>.error_handler\u001b[0;34m(*args, **kwargs)\u001b[0m\n\u001b[1;32m     67\u001b[0m     filtered_tb \u001b[38;5;241m=\u001b[39m _process_traceback_frames(e\u001b[38;5;241m.\u001b[39m__traceback__)\n\u001b[1;32m     68\u001b[0m     \u001b[38;5;66;03m# To get the full stack trace, call:\u001b[39;00m\n\u001b[1;32m     69\u001b[0m     \u001b[38;5;66;03m# `tf.debugging.disable_traceback_filtering()`\u001b[39;00m\n\u001b[0;32m---> 70\u001b[0m     \u001b[38;5;28;01mraise\u001b[39;00m e\u001b[38;5;241m.\u001b[39mwith_traceback(filtered_tb) \u001b[38;5;28;01mfrom\u001b[39;00m \u001b[38;5;28mNone\u001b[39m\n\u001b[1;32m     71\u001b[0m \u001b[38;5;28;01mfinally\u001b[39;00m:\n\u001b[1;32m     72\u001b[0m     \u001b[38;5;28;01mdel\u001b[39;00m filtered_tb\n",
      "File \u001b[0;32m/var/folders/7r/61bttw_50_7_mhx02bntv9qm0000gn/T/__autograph_generated_filelz7l_lcf.py:15\u001b[0m, in \u001b[0;36mouter_factory.<locals>.inner_factory.<locals>.tf__predict_function\u001b[0;34m(iterator)\u001b[0m\n\u001b[1;32m     13\u001b[0m \u001b[38;5;28;01mtry\u001b[39;00m:\n\u001b[1;32m     14\u001b[0m     do_return \u001b[38;5;241m=\u001b[39m \u001b[38;5;28;01mTrue\u001b[39;00m\n\u001b[0;32m---> 15\u001b[0m     retval_ \u001b[38;5;241m=\u001b[39m ag__\u001b[38;5;241m.\u001b[39mconverted_call(ag__\u001b[38;5;241m.\u001b[39mld(step_function), (ag__\u001b[38;5;241m.\u001b[39mld(\u001b[38;5;28mself\u001b[39m), ag__\u001b[38;5;241m.\u001b[39mld(iterator)), \u001b[38;5;28;01mNone\u001b[39;00m, fscope)\n\u001b[1;32m     16\u001b[0m \u001b[38;5;28;01mexcept\u001b[39;00m:\n\u001b[1;32m     17\u001b[0m     do_return \u001b[38;5;241m=\u001b[39m \u001b[38;5;28;01mFalse\u001b[39;00m\n",
      "\u001b[0;31mValueError\u001b[0m: in user code:\n\n    File \"/Users/elifkurtay/opt/anaconda3/lib/python3.9/site-packages/keras/engine/training.py\", line 2137, in predict_function  *\n        return step_function(self, iterator)\n    File \"/Users/elifkurtay/opt/anaconda3/lib/python3.9/site-packages/keras/engine/training.py\", line 2123, in step_function  **\n        outputs = model.distribute_strategy.run(run_step, args=(data,))\n    File \"/Users/elifkurtay/opt/anaconda3/lib/python3.9/site-packages/keras/engine/training.py\", line 2111, in run_step  **\n        outputs = model.predict_step(data)\n    File \"/Users/elifkurtay/opt/anaconda3/lib/python3.9/site-packages/keras/engine/training.py\", line 2079, in predict_step\n        return self(x, training=False)\n    File \"/Users/elifkurtay/opt/anaconda3/lib/python3.9/site-packages/keras/utils/traceback_utils.py\", line 70, in error_handler\n        raise e.with_traceback(filtered_tb) from None\n    File \"/Users/elifkurtay/opt/anaconda3/lib/python3.9/site-packages/keras/engine/input_spec.py\", line 216, in assert_input_compatibility\n        raise ValueError(\n\n    ValueError: Layer \"model_15\" expects 3 input(s), but it received 1 input tensors. Inputs received: [<tf.Tensor 'IteratorGetNext:0' shape=(None, 1, 2) dtype=float32>]\n"
     ]
    }
   ],
   "source": [
    "# multi-headed cnn\n",
    "\n",
    "# fit and evaluate a model\n",
    "def evaluate_model(trainX, trainy, testX, testy):\n",
    "    verbose, epochs, batch_size = 0, 10, 32\n",
    "    n_timesteps, n_features, n_outputs = trainX.shape[1], trainX.shape[2], trainy.shape[1]\n",
    "    # head 1\n",
    "    inputs1 = Input(shape=(n_timesteps,n_features))\n",
    "    conv1_1 = Conv1D(filters=64, kernel_size=5, activation='relu', padding = \"same\")(inputs1)\n",
    "    drop1_1 = Dropout(0.5)(conv1_1)\n",
    "    conv1_2 = Conv1D(filters=64, kernel_size=5, activation='relu', padding = \"same\")(inputs1)\n",
    "    drop1_2 = Dropout(0.5)(conv1_2)\n",
    "    flat1 = Flatten()(drop1_2)\n",
    "    # head 2\n",
    "    inputs2 = Input(shape=(n_timesteps,n_features))\n",
    "    conv2_1 = Conv1D(filters=128, kernel_size=7, activation='relu', padding = \"same\")(inputs2)\n",
    "    drop2_1 = Dropout(0.5)(conv2_1)\n",
    "    conv2_2 = Conv1D(filters=128, kernel_size=7, activation='relu', padding = \"same\")(inputs2)\n",
    "    drop2_2 = Dropout(0.5)(conv2_2)\n",
    "    flat2 = Flatten()(drop2_2)\n",
    "    # head 3\n",
    "    inputs3 = Input(shape=(n_timesteps,n_features))\n",
    "    conv3_1 = Conv1D(filters=256, kernel_size=11, activation='relu', padding = \"same\")(inputs3)\n",
    "    drop3_1 = Dropout(0.5)(conv3_1)\n",
    "    conv3_2 = Conv1D(filters=256, kernel_size=11, activation='relu', padding = \"same\")(inputs3)\n",
    "    drop3_2 = Dropout(0.5)(conv3_2)\n",
    "    flat3 = Flatten()(drop3_2)\n",
    "    # merge\n",
    "    merged = concatenate([flat1, flat2, flat3])\n",
    "    # interpretation\n",
    "    dense1 = Dense(100, activation='relu')(merged)\n",
    "    outputs = Dense(n_outputs, activation='softmax')(dense1)\n",
    "    model = Model(inputs=[inputs1, inputs2, inputs3], outputs=outputs)\n",
    "    # save a plot of the model\n",
    "    plot_model(model, show_shapes=True, to_file='multichannel.png')\n",
    "    model.compile(loss='categorical_crossentropy', optimizer='adam', metrics=['accuracy'])\n",
    "    # fit network\n",
    "    model.fit([trainX,trainX,trainX], trainy, epochs=epochs, batch_size=batch_size, verbose=verbose)\n",
    "    # evaluate model\n",
    "    _, accuracy = model.evaluate([testX,testX,testX], testy, batch_size=batch_size, verbose=0)\n",
    "    preds = model.predict(testX)\n",
    "    classes = np.argmax(preds,axis=1)\n",
    "    return classes, accuracy\n",
    "\n",
    "# run an experiment\n",
    "def run_experiment(repeats=10):\n",
    "    # repeat experiment\n",
    "    best_preds = []\n",
    "    max_score = 0\n",
    "    for r in range(repeats):\n",
    "        preds, score = evaluate_model(trainX, trainy, testX, testy)\n",
    "        score = score * 100.0\n",
    "        print('>#%d: %.3f' % (r+1, score))\n",
    "        if score > max_score:\n",
    "            max_score = score\n",
    "            best_preds = preds\n",
    "    # summarize results\n",
    "    summarize_result(y_te, best_preds)\n",
    "\n",
    "# run the experiment\n",
    "run_experiment()"
   ]
  },
  {
   "cell_type": "markdown",
   "id": "031ea8db",
   "metadata": {},
   "source": [
    "### Trying with the two different augmentation (small and big)"
   ]
  },
  {
   "cell_type": "code",
   "execution_count": 16,
   "id": "d9180ac1",
   "metadata": {},
   "outputs": [],
   "source": [
    "x_small, y_small, x_big, y_big = get_nn_patients(divided = True)"
   ]
  },
  {
   "cell_type": "code",
   "execution_count": 17,
   "id": "d59164e8",
   "metadata": {},
   "outputs": [
    {
     "data": {
      "text/plain": [
       "((31, 713, 2), (19, 1087, 2), (31, 713), (19, 1087))"
      ]
     },
     "execution_count": 17,
     "metadata": {},
     "output_type": "execute_result"
    }
   ],
   "source": [
    "x_small.shape , x_big.shape , y_small.shape , y_big.shape"
   ]
  },
  {
   "cell_type": "markdown",
   "id": "178a8290",
   "metadata": {},
   "source": [
    "#### CNN with small mean "
   ]
  },
  {
   "cell_type": "code",
   "execution_count": 24,
   "id": "df6055d0",
   "metadata": {},
   "outputs": [
    {
     "data": {
      "text/plain": [
       "((21, 713, 2), (10, 713, 2), (21, 713), (10, 713))"
      ]
     },
     "execution_count": 24,
     "metadata": {},
     "output_type": "execute_result"
    }
   ],
   "source": [
    "x, y, _, _= get_nn_patients(divided=True)\n",
    "x_tr, x_te, y_tr, y_te = train_test_split(x, y, test_size=0.30, random_state=42)\n",
    "x_tr.shape, x_te.shape, y_tr.shape, y_te.shape"
   ]
  },
  {
   "cell_type": "code",
   "execution_count": 25,
   "id": "5ac88890",
   "metadata": {},
   "outputs": [],
   "source": [
    "train_size, test_size = x_tr.shape[0] * x_tr.shape[1], x_te.shape[0] * x_te.shape[1]\n",
    "trainX = x_tr.reshape(train_size,1,2)\n",
    "trainy = y_tr.reshape(train_size)\n",
    "testX = x_te.reshape(test_size,1,2)\n",
    "y_te = y_te.reshape(test_size)\n",
    "\n",
    "trainy = to_categorical(trainy)\n",
    "testy = to_categorical(y_te)"
   ]
  },
  {
   "cell_type": "code",
   "execution_count": 27,
   "id": "3083a9b3",
   "metadata": {},
   "outputs": [
    {
     "name": "stdout",
     "output_type": "stream",
     "text": [
      "223/223 [==============================] - 0s 843us/step\n",
      ">#1: 65.217\n",
      "223/223 [==============================] - 0s 737us/step\n",
      ">#2: 65.568\n",
      "223/223 [==============================] - 0s 705us/step\n",
      ">#3: 64.741\n",
      "223/223 [==============================] - 0s 730us/step\n",
      ">#4: 64.741\n",
      "223/223 [==============================] - 0s 756us/step\n",
      ">#5: 65.217\n",
      "              precision    recall  f1-score   support\n",
      "\n",
      "         0.0       0.79      0.64      0.71      1748\n",
      "         1.0       0.58      0.28      0.38       657\n",
      "         2.0       0.64      0.78      0.70      3470\n",
      "         3.0       0.58      0.54      0.56      1255\n",
      "\n",
      "    accuracy                           0.66      7130\n",
      "   macro avg       0.65      0.56      0.59      7130\n",
      "weighted avg       0.66      0.66      0.65      7130\n",
      "\n",
      "Balanced accuracy: 0.5586178620873691\n",
      "Accuracy: 0.655680224403927\n",
      "Accuracy per class: [1. 1. 1. 1.]\n"
     ]
    },
    {
     "data": {
      "image/png": "[encoded data removed]",
      "text/plain": [
       "<Figure size 432x288 with 2 Axes>"
      ]
     },
     "metadata": {
      "needs_background": "light"
     },
     "output_type": "display_data"
    }
   ],
   "source": [
    "#fit and evaluate a model\n",
    "filters = 64\n",
    "kernel_size = 5\n",
    "def evaluate_model(trainX, trainy, testX, testy):\n",
    "    verbose, epochs, batch_size = 0, 10, 32\n",
    "    n_timesteps, n_features, n_outputs = trainX.shape[1], trainX.shape[2], trainy.shape[1]\n",
    "    model = Sequential()\n",
    "    model.add(Conv1D(filters, kernel_size, activation='relu', input_shape=(n_timesteps,n_features), padding = 'same'))\n",
    "    model.add(Conv1D(filters, kernel_size, activation='relu', padding = 'same'))\n",
    "    model.add(Dropout(0.5))\n",
    "    model.add(MaxPooling1D(pool_size=1))\n",
    "    model.add(Flatten())\n",
    "    model.add(Dense(100, activation='relu'))\n",
    "    model.add(Dense(n_outputs, activation='softmax'))\n",
    "    model.compile(loss='categorical_crossentropy', optimizer='adam', metrics=['accuracy'])\n",
    "    # fit network\n",
    "    model.fit(trainX, trainy, epochs=epochs, batch_size=batch_size, verbose=verbose)\n",
    "    # evaluate model\n",
    "    _, accuracy = model.evaluate(testX, testy, batch_size=batch_size, verbose=verbose)\n",
    "    preds = model.predict(testX)\n",
    "    classes = np.argmax(preds,axis=1)\n",
    "    return classes, accuracy\n",
    "\n",
    "# run an experiment\n",
    "def run_experiment(repeats=10):\n",
    "    # repeat experiment\n",
    "    best_preds = []\n",
    "    max_score = 0\n",
    "    for r in range(repeats):\n",
    "        preds, score = evaluate_model(trainX, trainy, testX, testy)\n",
    "        score = score * 100.0\n",
    "        print('>#%d: %.3f' % (r+1, score))\n",
    "        if score > max_score:\n",
    "            max_score = score\n",
    "            best_preds = preds\n",
    "    # summarize results\n",
    "    summarize_result(y_te, best_preds)\n",
    "\n",
    "# run the experiment\n",
    "run_experiment(repeats=5)"
   ]
  },
  {
   "cell_type": "markdown",
   "id": "5fceb66c",
   "metadata": {},
   "source": [
    "#### CNN with large mean"
   ]
  },
  {
   "cell_type": "code",
   "execution_count": 28,
   "id": "240b7f25",
   "metadata": {},
   "outputs": [
    {
     "data": {
      "text/plain": [
       "((13, 1087, 2), (6, 1087, 2), (13, 1087), (6, 1087))"
      ]
     },
     "execution_count": 28,
     "metadata": {},
     "output_type": "execute_result"
    }
   ],
   "source": [
    "_, _, x, y= get_nn_patients(divided=True)\n",
    "x_tr, x_te, y_tr, y_te = train_test_split(x, y, test_size=0.30, random_state=42)\n",
    "x_tr.shape, x_te.shape, y_tr.shape, y_te.shape"
   ]
  },
  {
   "cell_type": "code",
   "execution_count": 30,
   "id": "d82b886a",
   "metadata": {},
   "outputs": [],
   "source": [
    "train_size, test_size = x_tr.shape[0] * x_tr.shape[1], x_te.shape[0] * x_te.shape[1]\n",
    "trainX = x_tr.reshape(train_size,1,2)\n",
    "trainy = y_tr.reshape(train_size)\n",
    "testX = x_te.reshape(test_size,1,2)\n",
    "y_te = y_te.reshape(test_size)\n",
    "\n",
    "trainy = to_categorical(trainy)\n",
    "testy = to_categorical(y_te)"
   ]
  },
  {
   "cell_type": "code",
   "execution_count": 31,
   "id": "8ff8d679",
   "metadata": {},
   "outputs": [
    {
     "name": "stdout",
     "output_type": "stream",
     "text": [
      "204/204 [==============================] - 0s 860us/step\n",
      ">#1: 60.396\n",
      "204/204 [==============================] - 0s 779us/step\n",
      ">#2: 60.396\n",
      "204/204 [==============================] - 0s 777us/step\n",
      ">#3: 56.869\n",
      "204/204 [==============================] - 0s 780us/step\n",
      ">#4: 56.869\n",
      "204/204 [==============================] - 0s 747us/step\n",
      ">#5: 53.143\n",
      "204/204 [==============================] - 0s 865us/step\n",
      ">#6: 53.174\n",
      "204/204 [==============================] - 0s 777us/step\n",
      ">#7: 60.426\n",
      "204/204 [==============================] - 0s 804us/step\n",
      ">#8: 56.869\n",
      "204/204 [==============================] - 0s 803us/step\n",
      ">#9: 56.900\n",
      "204/204 [==============================] - 0s 789us/step\n",
      ">#10: 50.629\n",
      "              precision    recall  f1-score   support\n",
      "\n",
      "         0.0       0.50      0.37      0.43      1186\n",
      "         1.0       0.55      0.61      0.58      1237\n",
      "         2.0       0.61      0.71      0.66      2939\n",
      "         3.0       0.75      0.57      0.65      1160\n",
      "\n",
      "    accuracy                           0.60      6522\n",
      "   macro avg       0.60      0.57      0.58      6522\n",
      "weighted avg       0.61      0.60      0.60      6522\n",
      "\n",
      "Balanced accuracy: 0.5650396724222527\n",
      "Accuracy: 0.60426249616682\n",
      "Accuracy per class: [1. 1. 1. 1.]\n"
     ]
    },
    {
     "data": {
      "image/png": "[encoded data removed]",
      "text/plain": [
       "<Figure size 432x288 with 2 Axes>"
      ]
     },
     "metadata": {
      "needs_background": "light"
     },
     "output_type": "display_data"
    }
   ],
   "source": [
    "#fit and evaluate a model\n",
    "filters = 64\n",
    "kernel_size = 11\n",
    "def evaluate_model(trainX, trainy, testX, testy):\n",
    "    verbose, epochs, batch_size = 0, 10, 32\n",
    "    n_timesteps, n_features, n_outputs = trainX.shape[1], trainX.shape[2], trainy.shape[1]\n",
    "    model = Sequential()\n",
    "    model.add(Conv1D(filters, kernel_size, activation='relu', input_shape=(n_timesteps,n_features), padding = 'same'))\n",
    "    model.add(Conv1D(filters, kernel_size, activation='relu', padding = 'same'))\n",
    "    model.add(Dropout(0.5))\n",
    "    model.add(MaxPooling1D(pool_size=1))\n",
    "    model.add(Flatten())\n",
    "    model.add(Dense(100, activation='relu'))\n",
    "    model.add(Dense(n_outputs, activation='softmax'))\n",
    "    model.compile(loss='categorical_crossentropy', optimizer='adam', metrics=['accuracy'])\n",
    "    # fit network\n",
    "    model.fit(trainX, trainy, epochs=epochs, batch_size=batch_size, verbose=verbose)\n",
    "    # evaluate model\n",
    "    _, accuracy = model.evaluate(testX, testy, batch_size=batch_size, verbose=verbose)\n",
    "    preds = model.predict(testX)\n",
    "    classes = np.argmax(preds,axis=1)\n",
    "    return classes, accuracy\n",
    "\n",
    "\n",
    "# run an experiment\n",
    "def run_experiment(repeats=10):\n",
    "    # repeat experiment\n",
    "    best_preds = []\n",
    "    max_score = 0\n",
    "    for r in range(repeats):\n",
    "        preds, score = evaluate_model(trainX, trainy, testX, testy)\n",
    "        score = score * 100.0\n",
    "        print('>#%d: %.3f' % (r+1, score))\n",
    "        if score > max_score:\n",
    "            max_score = score\n",
    "            best_preds = preds\n",
    "    # summarize results\n",
    "    summarize_result(y_te, best_preds)\n",
    "\n",
    "# run the experiment\n",
    "run_experiment()"
   ]
  },
  {
   "cell_type": "markdown",
   "id": "6168942d",
   "metadata": {},
   "source": [
    "### Raw Features"
   ]
  },
  {
   "cell_type": "code",
   "execution_count": 32,
   "id": "3ad5cf8f",
   "metadata": {},
   "outputs": [
    {
     "data": {
      "text/plain": [
       "((35, 857, 9), (15, 857, 9), (35, 857), (15, 857))"
      ]
     },
     "execution_count": 32,
     "metadata": {},
     "output_type": "execute_result"
    }
   ],
   "source": [
    "x, y, _, _= get_nn_patients(raw=True)\n",
    "x_tr, x_te, y_tr, y_te = train_test_split(x, y, test_size=0.30, random_state=42)\n",
    "x_tr.shape, x_te.shape, y_tr.shape, y_te.shape"
   ]
  },
  {
   "cell_type": "code",
   "execution_count": 33,
   "id": "445587a5",
   "metadata": {},
   "outputs": [
    {
     "data": {
      "text/plain": [
       "((29995, 1, 3), (12855, 1, 3), (29995, 4), (12855, 4))"
      ]
     },
     "execution_count": 33,
     "metadata": {},
     "output_type": "execute_result"
    }
   ],
   "source": [
    "x_tr, x_te = x_tr[:,:,[0,2,5]], x_te[:,:,[0,2,5]]\n",
    "train_size, test_size = x_tr.shape[0] * x_tr.shape[1], x_te.shape[0] * x_te.shape[1]\n",
    "trainX = x_tr.reshape(train_size,1,3)\n",
    "trainy = y_tr.reshape(train_size)\n",
    "testX = x_te.reshape(test_size,1,3)\n",
    "y_te = y_te.reshape(test_size)\n",
    "\n",
    "trainy = to_categorical(trainy)\n",
    "testy = to_categorical(y_te)\n",
    "\n",
    "trainX.shape, testX.shape, trainy.shape, testy.shape"
   ]
  },
  {
   "cell_type": "code",
   "execution_count": 34,
   "id": "7d5593f2",
   "metadata": {},
   "outputs": [
    {
     "name": "stdout",
     "output_type": "stream",
     "text": [
      "402/402 [==============================] - 0s 786us/step\n",
      ">#1: 65.819\n",
      "402/402 [==============================] - 0s 774us/step\n",
      ">#2: 62.505\n",
      "402/402 [==============================] - 0s 780us/step\n",
      ">#3: 62.832\n",
      "402/402 [==============================] - 0s 771us/step\n",
      ">#4: 65.655\n",
      "402/402 [==============================] - 0s 743us/step\n",
      ">#5: 60.342\n",
      "402/402 [==============================] - 0s 774us/step\n",
      ">#6: 64.597\n",
      "402/402 [==============================] - 0s 830us/step\n",
      ">#7: 64.426\n",
      "402/402 [==============================] - 0s 813us/step\n",
      ">#8: 62.762\n",
      "402/402 [==============================] - 0s 763us/step\n",
      ">#9: 62.567\n",
      "402/402 [==============================] - 0s 829us/step\n",
      ">#10: 66.519\n",
      "              precision    recall  f1-score   support\n",
      "\n",
      "         0.0       0.68      0.70      0.69      3250\n",
      "         1.0       0.63      0.58      0.60      2059\n",
      "         2.0       0.67      0.72      0.69      5670\n",
      "         3.0       0.64      0.54      0.58      1876\n",
      "\n",
      "    accuracy                           0.67     12855\n",
      "   macro avg       0.66      0.63      0.64     12855\n",
      "weighted avg       0.66      0.67      0.66     12855\n",
      "\n",
      "Balanced accuracy: 0.6343552023059633\n",
      "Accuracy: 0.6651886425515363\n",
      "Accuracy per class: [1. 1. 1. 1.]\n"
     ]
    },
    {
     "data": {
      "image/png": "[encoded data removed]",
      "text/plain": [
       "<Figure size 432x288 with 2 Axes>"
      ]
     },
     "metadata": {
      "needs_background": "light"
     },
     "output_type": "display_data"
    }
   ],
   "source": [
    "#fit and evaluate a model\n",
    "filters = 64\n",
    "kernel_size = 11\n",
    "def evaluate_model(trainX, trainy, testX, testy):\n",
    "    verbose, epochs, batch_size = 0, 10, 32\n",
    "    n_timesteps, n_features, n_outputs = trainX.shape[1], trainX.shape[2], trainy.shape[1]\n",
    "    model = Sequential()\n",
    "    model.add(Conv1D(filters, kernel_size, activation='relu', input_shape=(n_timesteps,n_features), padding = 'same'))\n",
    "    model.add(Conv1D(filters, kernel_size, activation='relu', padding = 'same'))\n",
    "    model.add(Dropout(0.5))\n",
    "    model.add(MaxPooling1D(pool_size=1))\n",
    "    model.add(Flatten())\n",
    "    model.add(Dense(100, activation='relu'))\n",
    "    model.add(Dense(n_outputs, activation='softmax'))\n",
    "    model.compile(loss='categorical_crossentropy', optimizer='adam', metrics=['accuracy'])\n",
    "    # fit network\n",
    "    model.fit(trainX, trainy, epochs=epochs, batch_size=batch_size, verbose=verbose)\n",
    "    # evaluate model\n",
    "    _, accuracy = model.evaluate(testX, testy, batch_size=batch_size, verbose=verbose)\n",
    "    preds = model.predict(testX)\n",
    "    classes = np.argmax(preds,axis=1)\n",
    "    return classes, accuracy\n",
    "\n",
    "\n",
    "# run an experiment\n",
    "def run_experiment(repeats=10):\n",
    "    # repeat experiment\n",
    "    best_preds = []\n",
    "    max_score = 0\n",
    "    for r in range(repeats):\n",
    "        preds, score = evaluate_model(trainX, trainy, testX, testy)\n",
    "        score = score * 100.0\n",
    "        print('>#%d: %.3f' % (r+1, score))\n",
    "        if score > max_score:\n",
    "            max_score = score\n",
    "            best_preds = preds\n",
    "    # summarize results\n",
    "    summarize_result(y_te, best_preds)\n",
    "\n",
    "# run the experiment\n",
    "run_experiment()"
   ]
  },
  {
   "cell_type": "code",
   "execution_count": null,
   "id": "c55d563d",
   "metadata": {},
   "outputs": [],
   "source": []
  }
 ],
 "metadata": {
  "kernelspec": {
   "display_name": "Python 3 (ipykernel)",
   "language": "python",
   "name": "python3"
  },
  "language_info": {
   "codemirror_mode": {
    "name": "ipython",
    "version": 3
   },
   "file_extension": ".py",
   "mimetype": "text/x-python",
   "name": "python",
   "nbconvert_exporter": "python",
   "pygments_lexer": "ipython3",
   "version": "3.9.12"
  }
 },
 "nbformat": 4,
 "nbformat_minor": 5
}
