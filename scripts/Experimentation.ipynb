{
 "cells": [
  {
   "cell_type": "markdown",
   "id": "1405eba7",
   "metadata": {},
   "source": [
    "### Experimenting with data and Unsupervised Learning\n",
    "\n",
    "Labels come from 2 different PSG systems: Remlogic and Somnomedics. EMFIT is the piezoelectric mat and Somnofy is the radar. Sleep stage labels are as follows:\n",
    "\n",
    "0 = Awake \\\n",
    "1 = REM \\\n",
    "2 = Light  \\\n",
    "3 = Deep \n"
   ]
  },
  {
   "cell_type": "code",
   "execution_count": 42,
   "id": "707dc080",
   "metadata": {},
   "outputs": [],
   "source": [
    "from sklearn.model_selection import train_test_split\n",
    "from sklearn.tree import DecisionTreeClassifier\n",
    "from sklearn.metrics import classification_report\n",
    "from sklearn.metrics import confusion_matrix, classification_report, balanced_accuracy_score, accuracy_score\n",
    "from sklearn.feature_selection import RFE\n",
    "from sklearn.linear_model import LogisticRegression\n",
    "from sklearn.cluster import KMeans\n",
    "\n",
    "from loader import *\n",
    "from helpers import *\n",
    "import pandas as pd\n",
    "import numpy as np "
   ]
  },
  {
   "cell_type": "code",
   "execution_count": 50,
   "id": "e9be5058",
   "metadata": {},
   "outputs": [
    {
     "data": {
      "text/plain": [
       "((35, 857, 9), (16, 857, 9), (35, 857), (16, 857))"
      ]
     },
     "execution_count": 50,
     "metadata": {},
     "output_type": "execute_result"
    }
   ],
   "source": [
    "x, y, x_big, y_big = get_nn_patients(raw=True)\n",
    "x_train, x_test, y_train, y_test = train_test_split(x, y, test_size=.30, random_state=42)\n",
    "x_train.shape, x_test.shape, y_train.shape, y_test.shape"
   ]
  },
  {
   "cell_type": "code",
   "execution_count": 51,
   "id": "93be52c5",
   "metadata": {},
   "outputs": [
    {
     "data": {
      "text/plain": [
       "((29995, 9), (13712, 9), (29995,), (13712,))"
      ]
     },
     "execution_count": 51,
     "metadata": {},
     "output_type": "execute_result"
    }
   ],
   "source": [
    "feature_count = x_train.shape[2]\n",
    "train_size, test_size = x_train.shape[0] * x_train.shape[1], x_test.shape[0] * x_test.shape[1]\n",
    "x_tr, x_te, y_tr, y_te = x_train.reshape(train_size, feature_count), x_test.reshape(test_size, feature_count), y_train.ravel(), y_test.ravel()\n",
    "x_tr.shape, x_te.shape, y_tr.shape, y_te.shape"
   ]
  },
  {
   "cell_type": "markdown",
   "id": "9c8fa562",
   "metadata": {},
   "source": [
    "### Decision Tree with Featured Data"
   ]
  },
  {
   "cell_type": "code",
   "execution_count": 76,
   "id": "d68c4565",
   "metadata": {},
   "outputs": [
    {
     "name": "stderr",
     "output_type": "stream",
     "text": [
      "/Users/elifkurtay/opt/anaconda3/lib/python3.9/site-packages/sklearn/linear_model/_logistic.py:814: ConvergenceWarning: lbfgs failed to converge (status=1):\n",
      "STOP: TOTAL NO. of ITERATIONS REACHED LIMIT.\n",
      "\n",
      "Increase the number of iterations (max_iter) or scale the data as shown in:\n",
      "    https://scikit-learn.org/stable/modules/preprocessing.html\n",
      "Please also refer to the documentation for alternative solver options:\n",
      "    https://scikit-learn.org/stable/modules/linear_model.html#logistic-regression\n",
      "  n_iter_i = _check_optimize_result(\n",
      "/Users/elifkurtay/opt/anaconda3/lib/python3.9/site-packages/sklearn/linear_model/_logistic.py:814: ConvergenceWarning: lbfgs failed to converge (status=1):\n",
      "STOP: TOTAL NO. of ITERATIONS REACHED LIMIT.\n",
      "\n",
      "Increase the number of iterations (max_iter) or scale the data as shown in:\n",
      "    https://scikit-learn.org/stable/modules/preprocessing.html\n",
      "Please also refer to the documentation for alternative solver options:\n",
      "    https://scikit-learn.org/stable/modules/linear_model.html#logistic-regression\n",
      "  n_iter_i = _check_optimize_result(\n"
     ]
    },
    {
     "name": "stdout",
     "output_type": "stream",
     "text": [
      "[ True False  True False False False False False False]\n"
     ]
    }
   ],
   "source": [
    "# Selecting the Best important features according to Logistic Regression\n",
    "# Getting top 2 features shows the best as radar and mat, hence the other features were not used in other methods.\n",
    "rfe_selector = RFE(estimator=LogisticRegression(),n_features_to_select=2, step = 1)\n",
    "rfe_selector.fit(x_tr, y_tr)\n",
    "print(rfe_selector.get_support())\n",
    "# top 2: [0,2] = radar sleep stages and emfit sleep stages"
   ]
  },
  {
   "cell_type": "code",
   "execution_count": 78,
   "id": "7a7000d6",
   "metadata": {},
   "outputs": [
    {
     "name": "stderr",
     "output_type": "stream",
     "text": [
      "/Users/elifkurtay/opt/anaconda3/lib/python3.9/site-packages/sklearn/linear_model/_logistic.py:814: ConvergenceWarning: lbfgs failed to converge (status=1):\n",
      "STOP: TOTAL NO. of ITERATIONS REACHED LIMIT.\n",
      "\n",
      "Increase the number of iterations (max_iter) or scale the data as shown in:\n",
      "    https://scikit-learn.org/stable/modules/preprocessing.html\n",
      "Please also refer to the documentation for alternative solver options:\n",
      "    https://scikit-learn.org/stable/modules/linear_model.html#logistic-regression\n",
      "  n_iter_i = _check_optimize_result(\n",
      "/Users/elifkurtay/opt/anaconda3/lib/python3.9/site-packages/sklearn/linear_model/_logistic.py:814: ConvergenceWarning: lbfgs failed to converge (status=1):\n",
      "STOP: TOTAL NO. of ITERATIONS REACHED LIMIT.\n",
      "\n",
      "Increase the number of iterations (max_iter) or scale the data as shown in:\n",
      "    https://scikit-learn.org/stable/modules/preprocessing.html\n",
      "Please also refer to the documentation for alternative solver options:\n",
      "    https://scikit-learn.org/stable/modules/linear_model.html#logistic-regression\n",
      "  n_iter_i = _check_optimize_result(\n"
     ]
    },
    {
     "name": "stdout",
     "output_type": "stream",
     "text": [
      "[ True False  True False False  True False False False]\n"
     ]
    }
   ],
   "source": [
    "# Selecting the Best important features according to Logistic Regression\n",
    "rfe_selector = RFE(estimator=LogisticRegression(),n_features_to_select=3, step = 1)\n",
    "rfe_selector.fit(x_tr, y_tr)\n",
    "print(rfe_selector.get_support())\n",
    "# top 5: [0,2,4,5,8]\n",
    "# top 3: [0,2,5]\n",
    "x_featured_tr, x_featured_te = x_tr[:,[0,2,5]], x_te[:,[0,2,5]]"
   ]
  },
  {
   "cell_type": "code",
   "execution_count": 79,
   "id": "ca30f375",
   "metadata": {},
   "outputs": [],
   "source": [
    "classifier_feature = DecisionTreeClassifier()\n",
    "classifier_feature.fit(x_featured_tr, y_tr) \n",
    "preds = classifier_feature.predict(x_featured_te)"
   ]
  },
  {
   "cell_type": "code",
   "execution_count": 80,
   "id": "9bb0b87d",
   "metadata": {},
   "outputs": [
    {
     "name": "stdout",
     "output_type": "stream",
     "text": [
      "              precision    recall  f1-score   support\n",
      "\n",
      "         0.0       0.67      0.48      0.56      3679\n",
      "         1.0       0.53      0.65      0.58      1920\n",
      "         2.0       0.65      0.70      0.67      6382\n",
      "         3.0       0.55      0.56      0.56      1731\n",
      "\n",
      "    accuracy                           0.62     13712\n",
      "   macro avg       0.60      0.60      0.59     13712\n",
      "weighted avg       0.62      0.62      0.61     13712\n",
      "\n",
      "0.5986087839709145\n",
      "0.6169778296382731\n"
     ]
    }
   ],
   "source": [
    "print(classification_report(y_te,preds))\n",
    "print(balanced_accuracy_score(y_te,preds))\n",
    "print(accuracy_score(y_te,preds))"
   ]
  },
  {
   "cell_type": "markdown",
   "id": "778bee86",
   "metadata": {},
   "source": [
    "### KMeans as a try for Unsupervised Learning"
   ]
  },
  {
   "cell_type": "code",
   "execution_count": 81,
   "id": "eb5af178",
   "metadata": {},
   "outputs": [],
   "source": [
    "km = KMeans(\n",
    "    n_clusters=4, init='random',\n",
    "    n_init=10, max_iter=300, \n",
    "    tol=1e-04, random_state=0\n",
    ")\n",
    "y_km = km.fit_predict(x_tr)"
   ]
  },
  {
   "cell_type": "code",
   "execution_count": 82,
   "id": "89dd28ac",
   "metadata": {},
   "outputs": [
    {
     "data": {
      "image/png": "[encoded data removed]",
      "text/plain": [
       "<Figure size 432x288 with 1 Axes>"
      ]
     },
     "metadata": {
      "needs_background": "light"
     },
     "output_type": "display_data"
    }
   ],
   "source": [
    "plt.scatter(x_tr[:, 0], x_tr[:, 1], c=y_km)\n",
    "plt.title(\"Optimal Number of Clusters\")\n",
    "plt.show()"
   ]
  },
  {
   "cell_type": "code",
   "execution_count": 83,
   "id": "48c3fe75",
   "metadata": {},
   "outputs": [],
   "source": [
    "mapping = {0:1, 1:0, 2:3, 3:2}\n",
    "preds = [mapping[i] for i in y_km]"
   ]
  },
  {
   "cell_type": "code",
   "execution_count": 84,
   "id": "8346329c",
   "metadata": {},
   "outputs": [
    {
     "name": "stdout",
     "output_type": "stream",
     "text": [
      "              precision    recall  f1-score   support\n",
      "\n",
      "         0.0       0.35      0.27      0.30      6119\n",
      "         1.0       0.15      0.13      0.14      4891\n",
      "         2.0       0.52      0.55      0.54     14112\n",
      "         3.0       0.19      0.23      0.21      4873\n",
      "\n",
      "    accuracy                           0.37     29995\n",
      "   macro avg       0.30      0.30      0.30     29995\n",
      "weighted avg       0.37      0.37      0.37     29995\n",
      "\n",
      "0.295146380799364\n",
      "0.37299549924987496\n"
     ]
    }
   ],
   "source": [
    "print(classification_report(y_tr,preds))\n",
    "print(balanced_accuracy_score(y_tr,preds))\n",
    "print(accuracy_score(y_tr,preds))"
   ]
  },
  {
   "cell_type": "code",
   "execution_count": null,
   "id": "44a07ca1",
   "metadata": {},
   "outputs": [],
   "source": []
  }
 ],
 "metadata": {
  "kernelspec": {
   "display_name": "Python 3 (ipykernel)",
   "language": "python",
   "name": "python3"
  },
  "language_info": {
   "codemirror_mode": {
    "name": "ipython",
    "version": 3
   },
   "file_extension": ".py",
   "mimetype": "text/x-python",
   "name": "python",
   "nbconvert_exporter": "python",
   "pygments_lexer": "ipython3",
   "version": "3.9.12"
  }
 },
 "nbformat": 4,
 "nbformat_minor": 5
}
