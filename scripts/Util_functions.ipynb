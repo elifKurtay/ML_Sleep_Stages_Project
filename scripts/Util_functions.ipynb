{
 "cells": [
  {
   "cell_type": "code",
   "execution_count": 1,
   "metadata": {},
   "outputs": [],
   "source": [
    "import os\n",
    "import pyedflib\n",
    "import pandas as pd\n",
    "import datetime\n",
    "import pandas as pd\n",
    "import numpy as np\n",
    "import pyedflib\n",
    "from plotly.subplots import make_subplots\n",
    "import plotly.graph_objects as go\n",
    "import plotly.io as pio\n",
    "import plotly.figure_factory as ff\n",
    "import scipy\n",
    "from pingouin import intraclass_corr\n",
    "import pingouin as pg\n",
    "from sklearn.metrics import cohen_kappa_score\n",
    "from scipy import stats\n",
    "import matplotlib.pyplot as plt\n",
    "from sklearn.metrics import confusion_matrix, ConfusionMatrixDisplay\n",
    "from sklearn.metrics import balanced_accuracy_score\n",
    "import seaborn as sn"
   ]
  },
  {
   "cell_type": "code",
   "execution_count": 2,
   "metadata": {},
   "outputs": [],
   "source": [
    "def testUtil():\n",
    "    return \"PSG Utils Loaded\""
   ]
  },
  {
   "cell_type": "code",
   "execution_count": 4,
   "metadata": {},
   "outputs": [],
   "source": [
    "def get_psg_tsv_file(participant_id: str, file_type:str, _path:str):\n",
    "    \"\"\"Valid entries for file_type is \"scans\" or \"events\"\n",
    "    \n",
    "    example: get_psg_tsv_file(\"002\", \"scans\")\"\"\"\n",
    "    \n",
    "    try:\n",
    "        file = pd.read_csv(os.path.join(_path, \"SMS_\" + participant_id, \"psg\", \"RemLogic\", \"sub_%s.tsv\" % (file_type)), sep=\"\\t\") \n",
    "        return file\n",
    "    \n",
    "    except Exception as e:\n",
    "        print(\"No file %s\" % str(e))"
   ]
  },
  {
   "cell_type": "code",
   "execution_count": 7,
   "metadata": {
    "code_folding": []
   },
   "outputs": [],
   "source": [
    "def get_sleepstages(subjectID, _path):\n",
    "    \"\"\" Function to get Sleepstages from PSG.\n",
    "    Returns a Tuple: \n",
    "        [0]:boolean --> True, if request was sucessefull\n",
    "        [1]: DataFrame with LOCAL timestamps as Index and Sleepstages as Columne entries\n",
    "    The stages are coded the following way:\n",
    "    0 = Awake = SLEEP-S0\n",
    "    1 = REM   = SLEEP-REM\n",
    "    2 = Light = SLEEP-S1 and  SLEEP-S2 \n",
    "    3 = Deep  = SLEEP-S3\"\"\"\n",
    "    acq_time = get_psg_tsv_file(subjectID, \"scans\",_path)\n",
    "    if acq_time is None:\n",
    "        return(False,)\n",
    "    acq_time = pd.to_datetime(acq_time.columns[1])\n",
    "\n",
    "    event_data = get_psg_tsv_file(subjectID, \"events\",_path)\n",
    "    sleep_data= event_data[(event_data['trial_type']==\"SLEEP-S0\")|\n",
    "                      (event_data['trial_type']==\"SLEEP-S1\")|\n",
    "                      (event_data['trial_type']==\"SLEEP-S2\")|\n",
    "                      (event_data['trial_type']==\"SLEEP-S3\")|\n",
    "                      (event_data['trial_type']==\"SLEEP-REM\")].reset_index().drop(\"index\",axis=1)\n",
    "\n",
    "    sleep_data[\"time\"]= pd.Series(acq_time).repeat(len(sleep_data)).values + pd.to_timedelta(sleep_data.onset, unit='s')\n",
    "\n",
    "    sleep_data['trial_type'].replace({\"SLEEP-S0\":\"0_Stage_Wake\",\n",
    "             \"SLEEP-S1\":\"2_Stage_Light\",\n",
    "             \"SLEEP-S2\":\"2_Stage_Light\",\n",
    "             \"SLEEP-S3\":\"3_Stage_Deep\",\n",
    "             \"SLEEP-REM\":\"1_Stage_REM\"}, inplace=True)\n",
    "\n",
    "    sleep_data[\"sleep_stage_num_psg\"]= sleep_data[\"trial_type\"]\n",
    "    sleep_data[\"sleep_stage_num_psg\"].replace({\"3_Stage_Deep\":3, \"2_Stage_Light\":2, \"1_Stage_REM\":1, \"0_Stage_Wake\":0}, inplace=True)\n",
    "    sleep_data['timestamp_local'] =pd.to_datetime(sleep_data['time']).dt.tz_localize('Europe/Paris')\n",
    "    sleep_data.set_index('timestamp_local', inplace= True)\n",
    "    return (True,sleep_data[['sleep_stage_num_psg']])\n"
   ]
  },
  {
   "cell_type": "code",
   "execution_count": 12,
   "metadata": {},
   "outputs": [],
   "source": [
    "def get_sleep_stages(subjectID, _path):\n",
    "\n",
    "    acq_time = get_psg_tsv_file(subjectID, \"scans\",_path)\n",
    "    \n",
    "    if acq_time is None:\n",
    "        return(False,)\n",
    "    \n",
    "    acq_time = pd.to_datetime(acq_time.columns[1])\n",
    "\n",
    "    event_data = get_psg_tsv_file(subjectID, \"events\",_path)\n",
    "    event_data.index = event_data.onset.apply(lambda x: acq_time + datetime.timedelta(seconds=x))\n",
    "    \n",
    "    event_data.index =pd.to_datetime(event_data.index).tz_localize('Europe/Zurich')\n",
    "    \n",
    "    sleep_data = event_data[event_data.trial_type.str.contains(\"SLEEP\")].copy()\n",
    "\n",
    "    sleep_class_map = {\n",
    "        \"SLEEP-S0\": 3,\n",
    "        \"SLEEP-S1\": 1, \n",
    "        \"SLEEP-S2\": 1,\n",
    "        \"SLEEP-S3\": 0,\n",
    "        \"SLEEP-REM\": 2\n",
    "    }\n",
    "\n",
    "    sleep_data[\"sleep_stage_num_psg\"] = sleep_data.trial_type.map(sleep_class_map)\n",
    "    sleep_data = sleep_data[sleep_data.trial_type.isin(sleep_class_map.keys())]\n",
    "    \n",
    "    return (True,sleep_data[['sleep_stage_num_psg']])"
   ]
  },
  {
   "cell_type": "code",
   "execution_count": null,
   "metadata": {},
   "outputs": [],
   "source": [
    "def get_EMFIT_sleep_stages_file(subjectID, emfitID, _path, shift = \"0s\"):\n",
    "    \"\"\"Returns a Tuple: \n",
    "        [0]:boolean --> True, if request was sucessefull\n",
    "        [1]: DataFrame with LOCAL timestamps as Index and the rest as Columne entries        \n",
    "    \"\"\"\n",
    "    path_to_subject_root= f'{_path}/SMS_{subjectID}'\n",
    "    path_to_subject_psg= f'{path_to_subject_root}/psg/EMFIT_{emfitID}'\n",
    "\n",
    "    if os.path.exists(path_to_subject_psg):\n",
    "        \n",
    "        file_list= os.listdir(path_to_subject_psg)\n",
    "        file = f'SMS_{subjectID}-psg-EMFIT_{emfitID}-processed_sleepclasses.csv'\n",
    "\n",
    "        if file in file_list:\n",
    "        \n",
    "            data_EMFIT =  pd.read_csv(f'{path_to_subject_psg}/{file}')\n",
    "            data_EMFIT = data_EMFIT.rename(columns={'timestamp': 'timestamp_local'})\n",
    "            data_EMFIT.index = pd.to_datetime(data_EMFIT.timestamp_local, unit=\"s\")\n",
    "            data_EMFIT = data_EMFIT.tz_localize(\"UTC\")\n",
    "            data_EMFIT = data_EMFIT.tz_convert(\"Europe/Zurich\")\n",
    "            \n",
    "            EMFIT_SLEEPCLASS_MAP = {\n",
    "                1: 0,\n",
    "                2: 1,\n",
    "                3: 2,\n",
    "                4: 3\n",
    "            }\n",
    "\n",
    "            data_EMFIT[\"sleep_stage_num_emfit\"] = data_EMFIT.sleep_class.map(EMFIT_SLEEPCLASS_MAP)\n",
    "            data_EMFIT_resampled = data_EMFIT.resample(\"30s\").median().ffill()       #should be an int \n",
    "\n",
    "            return (True,data_EMFIT_resampled)\n",
    "        \n",
    "        else:\n",
    "            print(f'ERROR: no sleep_stages file in folder {path_to_subject_psg}')\n",
    "            return (False,)\n",
    "            \n",
    "    else:\n",
    "        print(f'No EMFIT_{emfitID} Data for Participant: {subjectID}')\n",
    "        \n",
    "        return (False,)"
   ]
  },
  {
   "cell_type": "code",
   "execution_count": null,
   "metadata": {},
   "outputs": [],
   "source": [
    "def get_sleepclasses_file(participant_id: str, emfit_id: str, _path:str):\n",
    "    \n",
    "    try:\n",
    "        file = pd.read_csv(os.path.join(_path, \"SMS_\" + participant_id, \"psg\", \"EMFIT_\" + emfit_id, \"SMS_%s-psg-EMFIT_%s-processed_sleepclasses.csv\" % (participant_id, emfit_id)))\n",
    "    \n",
    "        return file    \n",
    "    \n",
    "    except Exception as e:\n",
    "        print(\"No file %s\" % str(e))\n",
    "    \n",
    "\n",
    "\n",
    "# get_sleepclasses_file(\"004\", \"001505\")"
   ]
  },
  {
   "cell_type": "code",
   "execution_count": null,
   "metadata": {},
   "outputs": [],
   "source": [
    "def get_sleepclasses_file(participant_id: str, emfit_id: str, _path:str = data_dir_root):\n",
    "    \n",
    "    try:\n",
    "        file = pd.read_csv(os.path.join(_path, \"SMS_\" + participant_id, \"psg\", \"EMFIT_\" + emfit_id, \"SMS_%s-psg-EMFIT_%s-processed_sleepclasses.csv\" % (participant_id, emfit_id)))\n",
    "    \n",
    "        return file    \n",
    "    \n",
    "    except Exception as e:\n",
    "        print(\"No file %s\" % str(e))"
   ]
  },
  {
   "cell_type": "code",
   "execution_count": null,
   "metadata": {},
   "outputs": [],
   "source": [
    "def get_empatica_file(participant_id: str, sensor: str, _path:str = data_dir_root):\n",
    "    \n",
    "    try:\n",
    "        file = pd.read_csv(os.path.join(_path, \"SMS_\" + participant_id, \"psg\", \"Empatica\", \"SMS_%s-psg-Empatica-%s.csv\" % (participant_id, sensor)))\n",
    "        return file\n",
    "    \n",
    "    except Exception as e:\n",
    "        print(\"No file %s\" % str(e))"
   ]
  },
  {
   "cell_type": "code",
   "execution_count": null,
   "metadata": {},
   "outputs": [],
   "source": [
    "def get_somnofy_data(subjectID, _path, shift = \"0s\"):\n",
    "    \"\"\"Returns a Tuple: \n",
    "        [0]:boolean --> True, if request was sucessefull\n",
    "        [1]: DataFrame with LOCAL timestamps as Index and the rest as Columne entries        \n",
    "    \"\"\"\n",
    "    path_to_subject_root= f'{_path}/SMS_{subjectID}'\n",
    "    path_to_subject_psg= f'{path_to_subject_root}/psg/Somnofy'\n",
    "\n",
    "    if os.path.exists(path_to_subject_psg):\n",
    "        file_list= os.listdir(path_to_subject_psg)\n",
    "        if len(file_list) != 1:\n",
    "            print(f'ERROR: more than 1 or no file in folder {path_to_subject_psg}')\n",
    "            return (False,)\n",
    "        else:\n",
    "            data_somnofy =  pd.read_csv(f'{path_to_subject_psg}/{file_list[0]}')\n",
    "\n",
    "            data_somnofy[\"sleep_stage\"].replace({1:\"3_Stage_Deep\", 2:\"2_Stage_Light\", 3:\"1_Stage_REM\", 4: \"0_Stage_Wake\", 5: np.NaN}, inplace=True)\n",
    "            data_somnofy[\"sleep_stage_num_somnofy\"]= data_somnofy[\"sleep_stage\"]\n",
    "            data_somnofy[\"sleep_stage_num_somnofy\"].replace({\"3_Stage_Deep\":3, \"2_Stage_Light\":2, \"1_Stage_REM\":1, \"0_Stage_Wake\":0}, inplace=True)\n",
    "\n",
    "            data_somnofy['timestamp_local'] =pd.to_datetime(data_somnofy['timestamp_local']).dt.tz_localize('Europe/Paris')\n",
    "\n",
    "            data_somnofy['timestamp_local']=data_somnofy['timestamp_local']+ pd.Timedelta('30s')\n",
    "\n",
    "            data_somnofy.set_index('timestamp_local', inplace = True)\n",
    "            data_somnofy_resampled=data_somnofy.resample('30s').median().drop(\"Unnamed: 0\",axis= 1)\n",
    "            data_somnofy_resampled[\"sleep_stage_num_somnofy\"]=data_somnofy_resampled[\"sleep_stage_num_somnofy\"].round(decimals=0)\n",
    "        return (True,data_somnofy_resampled)\n",
    "    else:\n",
    "        print(f'No Somnofy Data for Participant: {subjectID}')\n",
    "        return (False,)"
   ]
  },
  {
   "cell_type": "code",
   "execution_count": null,
   "metadata": {},
   "outputs": [],
   "source": [
    "def get_sleepstages(subjectID, _path):\n",
    "    \"\"\"    Function to get Sleepstages from Somnofy Report. the stages are coded the following way \n",
    "    (the first column is the value now)\n",
    "    0 = Awake = 4\n",
    "    1 = REM   = 3\n",
    "    2 = Light = 2\n",
    "    3 = Deep  = 1\n",
    "    nan= ...  = 5 <-- No Sleep Stage classified, due to (movement) artefacts\"\"\"\n",
    "    _d = get_somnofy_data(subjectID, _path)\n",
    "    if _d[0]:\n",
    "        return (True,_d[1][['sleep_stage_num_somnofy']])\n",
    "    else:\n",
    "        print(\"Sleep stages could no be extracted\")\n",
    "        return (False,)\n",
    "              \n",
    "# get_sleepstages(\"003\",path)"
   ]
  },
  {
   "cell_type": "code",
   "execution_count": null,
   "metadata": {},
   "outputs": [],
   "source": [
    "p = Util_psg.get_sleep_stages(test_participant,path)[1]\n",
    "s = Util_emf.get_sleepstages_emfit(test_participant, emfit_id[0], path)[1]"
   ]
  },
  {
   "cell_type": "code",
   "execution_count": null,
   "metadata": {},
   "outputs": [],
   "source": [
    "fig = make_subplots(rows=1, cols=1,shared_xaxes=True)\n",
    "\n",
    "fig.add_trace(go.Scatter(x=p.index,\n",
    "                         y=p['sleep_stage_num_psg'],name=\"PSG\",\n",
    "                         mode=\"markers+lines\"), col=1, row=1)\n",
    "\n",
    "fig.add_trace(go.Scatter(x=s.index,\n",
    "                         y=s['sleep_stage_num_emfit'],name=\"Emfit\",\n",
    "                         mode=\"markers+lines\"), col=1, row=1)"
   ]
  }
 ],
 "metadata": {
  "kernelspec": {
   "display_name": "Python 3",
   "language": "python",
   "name": "python3"
  },
  "language_info": {
   "codemirror_mode": {
    "name": "ipython",
    "version": 3
   },
   "file_extension": ".py",
   "mimetype": "text/x-python",
   "name": "python",
   "nbconvert_exporter": "python",
   "pygments_lexer": "ipython3",
   "version": "3.8.5"
  },
  "varInspector": {
   "cols": {
    "lenName": 16,
    "lenType": 16,
    "lenVar": "40"
   },
   "kernels_config": {
    "python": {
     "delete_cmd_postfix": "",
     "delete_cmd_prefix": "del ",
     "library": "var_list.py",
     "varRefreshCmd": "print(var_dic_list())"
    },
    "r": {
     "delete_cmd_postfix": ") ",
     "delete_cmd_prefix": "rm(",
     "library": "var_list.r",
     "varRefreshCmd": "cat(var_dic_list()) "
    }
   },
   "oldHeight": 122.844,
   "position": {
    "height": "40px",
    "left": "1547px",
    "right": "20px",
    "top": "127px",
    "width": "250px"
   },
   "types_to_exclude": [
    "module",
    "function",
    "builtin_function_or_method",
    "instance",
    "_Feature"
   ],
   "varInspector_section_display": "none",
   "window_display": true
  }
 },
 "nbformat": 4,
 "nbformat_minor": 5
}
