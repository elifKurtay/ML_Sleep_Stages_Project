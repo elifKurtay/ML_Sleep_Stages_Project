{
 "cells": [
  {
   "cell_type": "markdown",
   "id": "1405eba7",
   "metadata": {},
   "source": [
    "### CNN Model\n",
    "\n",
    "CNN model structure based on Automatic sleep stages classification using multi-level fusion by H. Kim.\n",
    "\n",
    "Labels come from 2 different PSG systems: Remlogic and Somnomedics. Sleep stage labels are as follows:\n",
    "\n",
    "0 = Awake = SLEEP-S0 \\\n",
    "1 = REM = SLEEP-REM \\\n",
    "2 = Light = SLEEP-S1 and SLEEP-S2 \\\n",
    "3 = Deep = SLEEP-S3\n",
    "\n",
    "EMFIT is the piezoelectric mat and Somnofy is the radar."
   ]
  },
  {
   "cell_type": "code",
   "execution_count": 1,
   "id": "7675c012",
   "metadata": {},
   "outputs": [],
   "source": [
    "#! pip3 install tensorflow"
   ]
  },
  {
   "cell_type": "code",
   "execution_count": 5,
   "id": "4abb1a5d",
   "metadata": {},
   "outputs": [],
   "source": [
    "import os\n",
    "from loader import get_nn_patients\n",
    "os.environ['TF_CPP_MIN_LOG_LEVEL'] = '2'"
   ]
  },
  {
   "cell_type": "code",
   "execution_count": 7,
   "id": "707dc080",
   "metadata": {},
   "outputs": [],
   "source": [
    "from tensorflow.keras.layers import Dense, Conv1D, BatchNormalization, MaxPooling1D, Flatten, Dropout\n",
    "from tensorflow.keras.models import Model, Sequential\n",
    "from tensorflow.keras.optimizers import Adam\n",
    "import tensorflow as tf\n",
    "from sklearn.model_selection import train_test_split\n",
    "\n",
    "from sklearn.metrics import confusion_matrix, classification_report, accuracy_score"
   ]
  },
  {
   "cell_type": "code",
   "execution_count": 10,
   "id": "5e0be3ab",
   "metadata": {},
   "outputs": [
    {
     "data": {
      "text/plain": [
       "((35, 857), (15, 857))"
      ]
     },
     "execution_count": 10,
     "metadata": {},
     "output_type": "execute_result"
    }
   ],
   "source": [
    "radars, mats, _, _, y = get_nn_patients()\n",
    "R_train, R_test, RY_train, RY_test = train_test_split(radars, y, test_size=0.30, random_state=42)\n",
    "M_train, M_test, MY_train, MY_test = train_test_split(mats, y, test_size=0.30, random_state=42)\n",
    "R_train.shape, R_test.shape"
   ]
  },
  {
   "cell_type": "code",
   "execution_count": 101,
   "id": "c125d2bd",
   "metadata": {},
   "outputs": [],
   "source": []
  },
  {
   "cell_type": "code",
   "execution_count": null,
   "id": "3c4945db",
   "metadata": {},
   "outputs": [],
   "source": []
  }
 ],
 "metadata": {
  "kernelspec": {
   "display_name": "Python 3 (ipykernel)",
   "language": "python",
   "name": "python3"
  },
  "language_info": {
   "codemirror_mode": {
    "name": "ipython",
    "version": 3
   },
   "file_extension": ".py",
   "mimetype": "text/x-python",
   "name": "python",
   "nbconvert_exporter": "python",
   "pygments_lexer": "ipython3",
   "version": "3.9.12"
  }
 },
 "nbformat": 4,
 "nbformat_minor": 5
}
